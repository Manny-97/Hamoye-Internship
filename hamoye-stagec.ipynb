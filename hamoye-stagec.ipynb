{
 "cells": [
  {
   "cell_type": "code",
   "execution_count": 1,
   "id": "f728e90f",
   "metadata": {
    "_cell_guid": "b1076dfc-b9ad-4769-8c92-a6c4dae69d19",
    "_uuid": "8f2839f25d086af736a60e9eeb907d3b93b6e0e5",
    "execution": {
     "iopub.execute_input": "2021-10-06T09:33:05.286084Z",
     "iopub.status.busy": "2021-10-06T09:33:05.282605Z",
     "iopub.status.idle": "2021-10-06T09:33:05.299084Z",
     "shell.execute_reply": "2021-10-06T09:33:05.297916Z",
     "shell.execute_reply.started": "2021-10-06T09:27:51.407519Z"
    },
    "papermill": {
     "duration": 0.062953,
     "end_time": "2021-10-06T09:33:05.299387",
     "exception": false,
     "start_time": "2021-10-06T09:33:05.236434",
     "status": "completed"
    },
    "tags": []
   },
   "outputs": [
    {
     "name": "stdout",
     "output_type": "stream",
     "text": [
      "/kaggle/input/hamoye-stage-c/Data_for_UCI_named.csv\n"
     ]
    }
   ],
   "source": [
    "# This Python 3 environment comes with many helpful analytics libraries installed\n",
    "# It is defined by the kaggle/python Docker image: https://github.com/kaggle/docker-python\n",
    "# For example, here's several helpful packages to load\n",
    "\n",
    "import numpy as np # linear algebra\n",
    "import pandas as pd # data processing, CSV file I/O (e.g. pd.read_csv)\n",
    "\n",
    "# Input data files are available in the read-only \"../input/\" directory\n",
    "# For example, running this (by clicking run or pressing Shift+Enter) will list all files under the input directory\n",
    "\n",
    "import os\n",
    "for dirname, _, filenames in os.walk('/kaggle/input'):\n",
    "    for filename in filenames:\n",
    "        print(os.path.join(dirname, filename))\n",
    "\n",
    "# You can write up to 20GB to the current directory (/kaggle/working/) that gets preserved as output when you create a version using \"Save & Run All\" \n",
    "# You can also write temporary files to /kaggle/temp/, but they won't be saved outside of the current session"
   ]
  },
  {
   "cell_type": "code",
   "execution_count": 2,
   "id": "3295f5c1",
   "metadata": {
    "execution": {
     "iopub.execute_input": "2021-10-06T09:33:05.367296Z",
     "iopub.status.busy": "2021-10-06T09:33:05.366628Z",
     "iopub.status.idle": "2021-10-06T09:33:06.439623Z",
     "shell.execute_reply": "2021-10-06T09:33:06.440178Z",
     "shell.execute_reply.started": "2021-10-06T09:27:51.421333Z"
    },
    "papermill": {
     "duration": 1.110287,
     "end_time": "2021-10-06T09:33:06.440383",
     "exception": false,
     "start_time": "2021-10-06T09:33:05.330096",
     "status": "completed"
    },
    "tags": []
   },
   "outputs": [],
   "source": [
    "import numpy as np\n",
    "import pandas as pd\n",
    "import matplotlib.pyplot as plt\n",
    "%matplotlib inline\n",
    "import seaborn as sns"
   ]
  },
  {
   "cell_type": "code",
   "execution_count": 3,
   "id": "eafc84da",
   "metadata": {
    "execution": {
     "iopub.execute_input": "2021-10-06T09:33:06.503047Z",
     "iopub.status.busy": "2021-10-06T09:33:06.500709Z",
     "iopub.status.idle": "2021-10-06T09:33:06.590647Z",
     "shell.execute_reply": "2021-10-06T09:33:06.589982Z",
     "shell.execute_reply.started": "2021-10-06T09:27:51.430812Z"
    },
    "papermill": {
     "duration": 0.122148,
     "end_time": "2021-10-06T09:33:06.590785",
     "exception": false,
     "start_time": "2021-10-06T09:33:06.468637",
     "status": "completed"
    },
    "tags": []
   },
   "outputs": [],
   "source": [
    "# Dataset is now stored in a Pandas Dataframe\n",
    "Data = pd.read_csv('/kaggle/input/hamoye-stage-c/Data_for_UCI_named.csv')"
   ]
  },
  {
   "cell_type": "code",
   "execution_count": 4,
   "id": "c79f8a48",
   "metadata": {
    "execution": {
     "iopub.execute_input": "2021-10-06T09:33:06.656239Z",
     "iopub.status.busy": "2021-10-06T09:33:06.653622Z",
     "iopub.status.idle": "2021-10-06T09:33:06.683025Z",
     "shell.execute_reply": "2021-10-06T09:33:06.681720Z",
     "shell.execute_reply.started": "2021-10-06T09:27:51.478257Z"
    },
    "papermill": {
     "duration": 0.06493,
     "end_time": "2021-10-06T09:33:06.683249",
     "exception": false,
     "start_time": "2021-10-06T09:33:06.618319",
     "status": "completed"
    },
    "tags": []
   },
   "outputs": [
    {
     "data": {
      "text/html": [
       "<div>\n",
       "<style scoped>\n",
       "    .dataframe tbody tr th:only-of-type {\n",
       "        vertical-align: middle;\n",
       "    }\n",
       "\n",
       "    .dataframe tbody tr th {\n",
       "        vertical-align: top;\n",
       "    }\n",
       "\n",
       "    .dataframe thead th {\n",
       "        text-align: right;\n",
       "    }\n",
       "</style>\n",
       "<table border=\"1\" class=\"dataframe\">\n",
       "  <thead>\n",
       "    <tr style=\"text-align: right;\">\n",
       "      <th></th>\n",
       "      <th>tau1</th>\n",
       "      <th>tau2</th>\n",
       "      <th>tau3</th>\n",
       "      <th>tau4</th>\n",
       "      <th>p1</th>\n",
       "      <th>p2</th>\n",
       "      <th>p3</th>\n",
       "      <th>p4</th>\n",
       "      <th>g1</th>\n",
       "      <th>g2</th>\n",
       "      <th>g3</th>\n",
       "      <th>g4</th>\n",
       "      <th>stab</th>\n",
       "      <th>stabf</th>\n",
       "    </tr>\n",
       "  </thead>\n",
       "  <tbody>\n",
       "    <tr>\n",
       "      <th>0</th>\n",
       "      <td>2.959060</td>\n",
       "      <td>3.079885</td>\n",
       "      <td>8.381025</td>\n",
       "      <td>9.780754</td>\n",
       "      <td>3.763085</td>\n",
       "      <td>-0.782604</td>\n",
       "      <td>-1.257395</td>\n",
       "      <td>-1.723086</td>\n",
       "      <td>0.650456</td>\n",
       "      <td>0.859578</td>\n",
       "      <td>0.887445</td>\n",
       "      <td>0.958034</td>\n",
       "      <td>0.055347</td>\n",
       "      <td>unstable</td>\n",
       "    </tr>\n",
       "    <tr>\n",
       "      <th>1</th>\n",
       "      <td>9.304097</td>\n",
       "      <td>4.902524</td>\n",
       "      <td>3.047541</td>\n",
       "      <td>1.369357</td>\n",
       "      <td>5.067812</td>\n",
       "      <td>-1.940058</td>\n",
       "      <td>-1.872742</td>\n",
       "      <td>-1.255012</td>\n",
       "      <td>0.413441</td>\n",
       "      <td>0.862414</td>\n",
       "      <td>0.562139</td>\n",
       "      <td>0.781760</td>\n",
       "      <td>-0.005957</td>\n",
       "      <td>stable</td>\n",
       "    </tr>\n",
       "    <tr>\n",
       "      <th>2</th>\n",
       "      <td>8.971707</td>\n",
       "      <td>8.848428</td>\n",
       "      <td>3.046479</td>\n",
       "      <td>1.214518</td>\n",
       "      <td>3.405158</td>\n",
       "      <td>-1.207456</td>\n",
       "      <td>-1.277210</td>\n",
       "      <td>-0.920492</td>\n",
       "      <td>0.163041</td>\n",
       "      <td>0.766689</td>\n",
       "      <td>0.839444</td>\n",
       "      <td>0.109853</td>\n",
       "      <td>0.003471</td>\n",
       "      <td>unstable</td>\n",
       "    </tr>\n",
       "    <tr>\n",
       "      <th>3</th>\n",
       "      <td>0.716415</td>\n",
       "      <td>7.669600</td>\n",
       "      <td>4.486641</td>\n",
       "      <td>2.340563</td>\n",
       "      <td>3.963791</td>\n",
       "      <td>-1.027473</td>\n",
       "      <td>-1.938944</td>\n",
       "      <td>-0.997374</td>\n",
       "      <td>0.446209</td>\n",
       "      <td>0.976744</td>\n",
       "      <td>0.929381</td>\n",
       "      <td>0.362718</td>\n",
       "      <td>0.028871</td>\n",
       "      <td>unstable</td>\n",
       "    </tr>\n",
       "    <tr>\n",
       "      <th>4</th>\n",
       "      <td>3.134112</td>\n",
       "      <td>7.608772</td>\n",
       "      <td>4.943759</td>\n",
       "      <td>9.857573</td>\n",
       "      <td>3.525811</td>\n",
       "      <td>-1.125531</td>\n",
       "      <td>-1.845975</td>\n",
       "      <td>-0.554305</td>\n",
       "      <td>0.797110</td>\n",
       "      <td>0.455450</td>\n",
       "      <td>0.656947</td>\n",
       "      <td>0.820923</td>\n",
       "      <td>0.049860</td>\n",
       "      <td>unstable</td>\n",
       "    </tr>\n",
       "  </tbody>\n",
       "</table>\n",
       "</div>"
      ],
      "text/plain": [
       "       tau1      tau2      tau3      tau4        p1        p2        p3  \\\n",
       "0  2.959060  3.079885  8.381025  9.780754  3.763085 -0.782604 -1.257395   \n",
       "1  9.304097  4.902524  3.047541  1.369357  5.067812 -1.940058 -1.872742   \n",
       "2  8.971707  8.848428  3.046479  1.214518  3.405158 -1.207456 -1.277210   \n",
       "3  0.716415  7.669600  4.486641  2.340563  3.963791 -1.027473 -1.938944   \n",
       "4  3.134112  7.608772  4.943759  9.857573  3.525811 -1.125531 -1.845975   \n",
       "\n",
       "         p4        g1        g2        g3        g4      stab     stabf  \n",
       "0 -1.723086  0.650456  0.859578  0.887445  0.958034  0.055347  unstable  \n",
       "1 -1.255012  0.413441  0.862414  0.562139  0.781760 -0.005957    stable  \n",
       "2 -0.920492  0.163041  0.766689  0.839444  0.109853  0.003471  unstable  \n",
       "3 -0.997374  0.446209  0.976744  0.929381  0.362718  0.028871  unstable  \n",
       "4 -0.554305  0.797110  0.455450  0.656947  0.820923  0.049860  unstable  "
      ]
     },
     "execution_count": 4,
     "metadata": {},
     "output_type": "execute_result"
    }
   ],
   "source": [
    "Data.head(5)"
   ]
  },
  {
   "cell_type": "code",
   "execution_count": 5,
   "id": "29e8540d",
   "metadata": {
    "execution": {
     "iopub.execute_input": "2021-10-06T09:33:06.752496Z",
     "iopub.status.busy": "2021-10-06T09:33:06.751669Z",
     "iopub.status.idle": "2021-10-06T09:33:06.754584Z",
     "shell.execute_reply": "2021-10-06T09:33:06.755092Z",
     "shell.execute_reply.started": "2021-10-06T09:27:51.500298Z"
    },
    "papermill": {
     "duration": 0.041568,
     "end_time": "2021-10-06T09:33:06.755315",
     "exception": false,
     "start_time": "2021-10-06T09:33:06.713747",
     "status": "completed"
    },
    "tags": []
   },
   "outputs": [
    {
     "data": {
      "text/plain": [
       "Index(['tau1', 'tau2', 'tau3', 'tau4', 'p1', 'p2', 'p3', 'p4', 'g1', 'g2',\n",
       "       'g3', 'g4', 'stab', 'stabf'],\n",
       "      dtype='object')"
      ]
     },
     "execution_count": 5,
     "metadata": {},
     "output_type": "execute_result"
    }
   ],
   "source": [
    "Data.columns"
   ]
  },
  {
   "cell_type": "code",
   "execution_count": 6,
   "id": "3984c17d",
   "metadata": {
    "execution": {
     "iopub.execute_input": "2021-10-06T09:33:06.822021Z",
     "iopub.status.busy": "2021-10-06T09:33:06.821305Z",
     "iopub.status.idle": "2021-10-06T09:33:06.849638Z",
     "shell.execute_reply": "2021-10-06T09:33:06.849040Z",
     "shell.execute_reply.started": "2021-10-06T09:27:51.512631Z"
    },
    "papermill": {
     "duration": 0.06292,
     "end_time": "2021-10-06T09:33:06.849793",
     "exception": false,
     "start_time": "2021-10-06T09:33:06.786873",
     "status": "completed"
    },
    "tags": []
   },
   "outputs": [
    {
     "name": "stdout",
     "output_type": "stream",
     "text": [
      "<class 'pandas.core.frame.DataFrame'>\n",
      "RangeIndex: 10000 entries, 0 to 9999\n",
      "Data columns (total 14 columns):\n",
      " #   Column  Non-Null Count  Dtype  \n",
      "---  ------  --------------  -----  \n",
      " 0   tau1    10000 non-null  float64\n",
      " 1   tau2    10000 non-null  float64\n",
      " 2   tau3    10000 non-null  float64\n",
      " 3   tau4    10000 non-null  float64\n",
      " 4   p1      10000 non-null  float64\n",
      " 5   p2      10000 non-null  float64\n",
      " 6   p3      10000 non-null  float64\n",
      " 7   p4      10000 non-null  float64\n",
      " 8   g1      10000 non-null  float64\n",
      " 9   g2      10000 non-null  float64\n",
      " 10  g3      10000 non-null  float64\n",
      " 11  g4      10000 non-null  float64\n",
      " 12  stab    10000 non-null  float64\n",
      " 13  stabf   10000 non-null  object \n",
      "dtypes: float64(13), object(1)\n",
      "memory usage: 1.1+ MB\n"
     ]
    }
   ],
   "source": [
    "Data.info()"
   ]
  },
  {
   "cell_type": "code",
   "execution_count": 7,
   "id": "1be44012",
   "metadata": {
    "execution": {
     "iopub.execute_input": "2021-10-06T09:33:06.912900Z",
     "iopub.status.busy": "2021-10-06T09:33:06.912286Z",
     "iopub.status.idle": "2021-10-06T09:33:06.918816Z",
     "shell.execute_reply": "2021-10-06T09:33:06.919313Z",
     "shell.execute_reply.started": "2021-10-06T09:27:51.535649Z"
    },
    "papermill": {
     "duration": 0.041295,
     "end_time": "2021-10-06T09:33:06.919478",
     "exception": false,
     "start_time": "2021-10-06T09:33:06.878183",
     "status": "completed"
    },
    "tags": []
   },
   "outputs": [
    {
     "data": {
      "text/plain": [
       "tau1     0\n",
       "tau2     0\n",
       "tau3     0\n",
       "tau4     0\n",
       "p1       0\n",
       "p2       0\n",
       "p3       0\n",
       "p4       0\n",
       "g1       0\n",
       "g2       0\n",
       "g3       0\n",
       "g4       0\n",
       "stab     0\n",
       "stabf    0\n",
       "dtype: int64"
      ]
     },
     "execution_count": 7,
     "metadata": {},
     "output_type": "execute_result"
    }
   ],
   "source": [
    "Data.isnull().sum()"
   ]
  },
  {
   "cell_type": "code",
   "execution_count": 8,
   "id": "cfa75085",
   "metadata": {
    "execution": {
     "iopub.execute_input": "2021-10-06T09:33:06.981218Z",
     "iopub.status.busy": "2021-10-06T09:33:06.980558Z",
     "iopub.status.idle": "2021-10-06T09:33:06.988409Z",
     "shell.execute_reply": "2021-10-06T09:33:06.988905Z",
     "shell.execute_reply.started": "2021-10-06T09:27:51.546649Z"
    },
    "papermill": {
     "duration": 0.040993,
     "end_time": "2021-10-06T09:33:06.989076",
     "exception": false,
     "start_time": "2021-10-06T09:33:06.948083",
     "status": "completed"
    },
    "tags": []
   },
   "outputs": [],
   "source": [
    "Data = Data.drop('stab', axis=1)"
   ]
  },
  {
   "cell_type": "code",
   "execution_count": 9,
   "id": "f97d09a3",
   "metadata": {
    "execution": {
     "iopub.execute_input": "2021-10-06T09:33:07.051941Z",
     "iopub.status.busy": "2021-10-06T09:33:07.051025Z",
     "iopub.status.idle": "2021-10-06T09:33:07.057311Z",
     "shell.execute_reply": "2021-10-06T09:33:07.056803Z",
     "shell.execute_reply.started": "2021-10-06T09:27:51.560284Z"
    },
    "papermill": {
     "duration": 0.039443,
     "end_time": "2021-10-06T09:33:07.057458",
     "exception": false,
     "start_time": "2021-10-06T09:33:07.018015",
     "status": "completed"
    },
    "tags": []
   },
   "outputs": [
    {
     "data": {
      "text/plain": [
       "Index(['tau1', 'tau2', 'tau3', 'tau4', 'p1', 'p2', 'p3', 'p4', 'g1', 'g2',\n",
       "       'g3', 'g4', 'stabf'],\n",
       "      dtype='object')"
      ]
     },
     "execution_count": 9,
     "metadata": {},
     "output_type": "execute_result"
    }
   ],
   "source": [
    "Data.columns"
   ]
  },
  {
   "cell_type": "code",
   "execution_count": 10,
   "id": "ae7c01d8",
   "metadata": {
    "execution": {
     "iopub.execute_input": "2021-10-06T09:33:07.134135Z",
     "iopub.status.busy": "2021-10-06T09:33:07.133125Z",
     "iopub.status.idle": "2021-10-06T09:33:07.137257Z",
     "shell.execute_reply": "2021-10-06T09:33:07.137842Z",
     "shell.execute_reply.started": "2021-10-06T09:27:51.575512Z"
    },
    "papermill": {
     "duration": 0.051399,
     "end_time": "2021-10-06T09:33:07.138007",
     "exception": false,
     "start_time": "2021-10-06T09:33:07.086608",
     "status": "completed"
    },
    "tags": []
   },
   "outputs": [
    {
     "data": {
      "text/html": [
       "<div>\n",
       "<style scoped>\n",
       "    .dataframe tbody tr th:only-of-type {\n",
       "        vertical-align: middle;\n",
       "    }\n",
       "\n",
       "    .dataframe tbody tr th {\n",
       "        vertical-align: top;\n",
       "    }\n",
       "\n",
       "    .dataframe thead th {\n",
       "        text-align: right;\n",
       "    }\n",
       "</style>\n",
       "<table border=\"1\" class=\"dataframe\">\n",
       "  <thead>\n",
       "    <tr style=\"text-align: right;\">\n",
       "      <th></th>\n",
       "      <th>tau1</th>\n",
       "      <th>tau2</th>\n",
       "      <th>tau3</th>\n",
       "      <th>tau4</th>\n",
       "      <th>p1</th>\n",
       "      <th>p2</th>\n",
       "      <th>p3</th>\n",
       "      <th>p4</th>\n",
       "      <th>g1</th>\n",
       "      <th>g2</th>\n",
       "      <th>g3</th>\n",
       "      <th>g4</th>\n",
       "      <th>stabf</th>\n",
       "    </tr>\n",
       "  </thead>\n",
       "  <tbody>\n",
       "    <tr>\n",
       "      <th>0</th>\n",
       "      <td>2.959060</td>\n",
       "      <td>3.079885</td>\n",
       "      <td>8.381025</td>\n",
       "      <td>9.780754</td>\n",
       "      <td>3.763085</td>\n",
       "      <td>-0.782604</td>\n",
       "      <td>-1.257395</td>\n",
       "      <td>-1.723086</td>\n",
       "      <td>0.650456</td>\n",
       "      <td>0.859578</td>\n",
       "      <td>0.887445</td>\n",
       "      <td>0.958034</td>\n",
       "      <td>unstable</td>\n",
       "    </tr>\n",
       "    <tr>\n",
       "      <th>1</th>\n",
       "      <td>9.304097</td>\n",
       "      <td>4.902524</td>\n",
       "      <td>3.047541</td>\n",
       "      <td>1.369357</td>\n",
       "      <td>5.067812</td>\n",
       "      <td>-1.940058</td>\n",
       "      <td>-1.872742</td>\n",
       "      <td>-1.255012</td>\n",
       "      <td>0.413441</td>\n",
       "      <td>0.862414</td>\n",
       "      <td>0.562139</td>\n",
       "      <td>0.781760</td>\n",
       "      <td>stable</td>\n",
       "    </tr>\n",
       "    <tr>\n",
       "      <th>2</th>\n",
       "      <td>8.971707</td>\n",
       "      <td>8.848428</td>\n",
       "      <td>3.046479</td>\n",
       "      <td>1.214518</td>\n",
       "      <td>3.405158</td>\n",
       "      <td>-1.207456</td>\n",
       "      <td>-1.277210</td>\n",
       "      <td>-0.920492</td>\n",
       "      <td>0.163041</td>\n",
       "      <td>0.766689</td>\n",
       "      <td>0.839444</td>\n",
       "      <td>0.109853</td>\n",
       "      <td>unstable</td>\n",
       "    </tr>\n",
       "    <tr>\n",
       "      <th>3</th>\n",
       "      <td>0.716415</td>\n",
       "      <td>7.669600</td>\n",
       "      <td>4.486641</td>\n",
       "      <td>2.340563</td>\n",
       "      <td>3.963791</td>\n",
       "      <td>-1.027473</td>\n",
       "      <td>-1.938944</td>\n",
       "      <td>-0.997374</td>\n",
       "      <td>0.446209</td>\n",
       "      <td>0.976744</td>\n",
       "      <td>0.929381</td>\n",
       "      <td>0.362718</td>\n",
       "      <td>unstable</td>\n",
       "    </tr>\n",
       "    <tr>\n",
       "      <th>4</th>\n",
       "      <td>3.134112</td>\n",
       "      <td>7.608772</td>\n",
       "      <td>4.943759</td>\n",
       "      <td>9.857573</td>\n",
       "      <td>3.525811</td>\n",
       "      <td>-1.125531</td>\n",
       "      <td>-1.845975</td>\n",
       "      <td>-0.554305</td>\n",
       "      <td>0.797110</td>\n",
       "      <td>0.455450</td>\n",
       "      <td>0.656947</td>\n",
       "      <td>0.820923</td>\n",
       "      <td>unstable</td>\n",
       "    </tr>\n",
       "  </tbody>\n",
       "</table>\n",
       "</div>"
      ],
      "text/plain": [
       "       tau1      tau2      tau3      tau4        p1        p2        p3  \\\n",
       "0  2.959060  3.079885  8.381025  9.780754  3.763085 -0.782604 -1.257395   \n",
       "1  9.304097  4.902524  3.047541  1.369357  5.067812 -1.940058 -1.872742   \n",
       "2  8.971707  8.848428  3.046479  1.214518  3.405158 -1.207456 -1.277210   \n",
       "3  0.716415  7.669600  4.486641  2.340563  3.963791 -1.027473 -1.938944   \n",
       "4  3.134112  7.608772  4.943759  9.857573  3.525811 -1.125531 -1.845975   \n",
       "\n",
       "         p4        g1        g2        g3        g4     stabf  \n",
       "0 -1.723086  0.650456  0.859578  0.887445  0.958034  unstable  \n",
       "1 -1.255012  0.413441  0.862414  0.562139  0.781760    stable  \n",
       "2 -0.920492  0.163041  0.766689  0.839444  0.109853  unstable  \n",
       "3 -0.997374  0.446209  0.976744  0.929381  0.362718  unstable  \n",
       "4 -0.554305  0.797110  0.455450  0.656947  0.820923  unstable  "
      ]
     },
     "execution_count": 10,
     "metadata": {},
     "output_type": "execute_result"
    }
   ],
   "source": [
    "Data.head()"
   ]
  },
  {
   "cell_type": "code",
   "execution_count": 11,
   "id": "85bb85b4",
   "metadata": {
    "execution": {
     "iopub.execute_input": "2021-10-06T09:33:07.207923Z",
     "iopub.status.busy": "2021-10-06T09:33:07.206459Z",
     "iopub.status.idle": "2021-10-06T09:33:07.225140Z",
     "shell.execute_reply": "2021-10-06T09:33:07.224431Z",
     "shell.execute_reply.started": "2021-10-06T09:27:51.600818Z"
    },
    "papermill": {
     "duration": 0.057707,
     "end_time": "2021-10-06T09:33:07.225330",
     "exception": false,
     "start_time": "2021-10-06T09:33:07.167623",
     "status": "completed"
    },
    "tags": []
   },
   "outputs": [
    {
     "data": {
      "text/plain": [
       "tau1     10000\n",
       "tau2     10000\n",
       "tau3     10000\n",
       "tau4     10000\n",
       "p1       10000\n",
       "p2       10000\n",
       "p3       10000\n",
       "p4       10000\n",
       "g1       10000\n",
       "g2       10000\n",
       "g3       10000\n",
       "g4       10000\n",
       "stabf        2\n",
       "dtype: int64"
      ]
     },
     "execution_count": 11,
     "metadata": {},
     "output_type": "execute_result"
    }
   ],
   "source": [
    "Data.nunique()"
   ]
  },
  {
   "cell_type": "code",
   "execution_count": 12,
   "id": "df216d4a",
   "metadata": {
    "execution": {
     "iopub.execute_input": "2021-10-06T09:33:07.303525Z",
     "iopub.status.busy": "2021-10-06T09:33:07.302729Z",
     "iopub.status.idle": "2021-10-06T09:33:08.329407Z",
     "shell.execute_reply": "2021-10-06T09:33:08.328849Z",
     "shell.execute_reply.started": "2021-10-06T09:27:51.624984Z"
    },
    "papermill": {
     "duration": 1.070181,
     "end_time": "2021-10-06T09:33:08.329553",
     "exception": false,
     "start_time": "2021-10-06T09:33:07.259372",
     "status": "completed"
    },
    "tags": []
   },
   "outputs": [
    {
     "data": {
      "image/png": "[encoded data removed]",
      "text/plain": [
       "<Figure size 1440x720 with 2 Axes>"
      ]
     },
     "metadata": {
      "needs_background": "light"
     },
     "output_type": "display_data"
    }
   ],
   "source": [
    "# Generate a correlation map of the data\n",
    "plt.figure(figsize=(20,10))\n",
    "sns.heatmap(Data.corr(), annot=True, cmap='plasma')\n",
    "plt.show()"
   ]
  },
  {
   "cell_type": "code",
   "execution_count": 13,
   "id": "d4edb047",
   "metadata": {
    "execution": {
     "iopub.execute_input": "2021-10-06T09:33:08.399945Z",
     "iopub.status.busy": "2021-10-06T09:33:08.399338Z",
     "iopub.status.idle": "2021-10-06T09:33:08.405501Z",
     "shell.execute_reply": "2021-10-06T09:33:08.405969Z",
     "shell.execute_reply.started": "2021-10-06T09:27:52.607811Z"
    },
    "papermill": {
     "duration": 0.043371,
     "end_time": "2021-10-06T09:33:08.406162",
     "exception": false,
     "start_time": "2021-10-06T09:33:08.362791",
     "status": "completed"
    },
    "tags": []
   },
   "outputs": [],
   "source": [
    "#splitting features and target variable\n",
    "x = Data.drop('stabf', axis=1)\n",
    "y = Data['stabf']"
   ]
  },
  {
   "cell_type": "markdown",
   "id": "2f04b43b",
   "metadata": {
    "papermill": {
     "duration": 0.032349,
     "end_time": "2021-10-06T09:33:08.471236",
     "exception": false,
     "start_time": "2021-10-06T09:33:08.438887",
     "status": "completed"
    },
    "tags": []
   },
   "source": [
    "### MODELLING AND PREPROCESSING"
   ]
  },
  {
   "cell_type": "code",
   "execution_count": 14,
   "id": "dd6d313b",
   "metadata": {
    "execution": {
     "iopub.execute_input": "2021-10-06T09:33:08.542255Z",
     "iopub.status.busy": "2021-10-06T09:33:08.541561Z",
     "iopub.status.idle": "2021-10-06T09:33:08.947224Z",
     "shell.execute_reply": "2021-10-06T09:33:08.946591Z",
     "shell.execute_reply.started": "2021-10-06T09:27:52.615194Z"
    },
    "papermill": {
     "duration": 0.443447,
     "end_time": "2021-10-06T09:33:08.947385",
     "exception": false,
     "start_time": "2021-10-06T09:33:08.503938",
     "status": "completed"
    },
    "tags": []
   },
   "outputs": [],
   "source": [
    "from sklearn.model_selection import train_test_split\n",
    "from sklearn.preprocessing import StandardScaler\n",
    "x_train, x_test, y_train, y_test = train_test_split(x, y,test_size=0.2, random_state=1)\n",
    "scaler = StandardScaler() \n",
    "scaled_x_train = scaler.fit_transform(x_train)\n",
    "scaled_x_test = scaler.transform(x_test)"
   ]
  },
  {
   "cell_type": "code",
   "execution_count": 15,
   "id": "1590247a",
   "metadata": {
    "execution": {
     "iopub.execute_input": "2021-10-06T09:33:09.022538Z",
     "iopub.status.busy": "2021-10-06T09:33:09.021786Z",
     "iopub.status.idle": "2021-10-06T09:33:09.031995Z",
     "shell.execute_reply": "2021-10-06T09:33:09.031447Z",
     "shell.execute_reply.started": "2021-10-06T09:27:52.635102Z"
    },
    "papermill": {
     "duration": 0.051135,
     "end_time": "2021-10-06T09:33:09.032141",
     "exception": false,
     "start_time": "2021-10-06T09:33:08.981006",
     "status": "completed"
    },
    "tags": []
   },
   "outputs": [],
   "source": [
    "scaled_x_train = scaler.fit_transform(x_train)\n",
    "scaled_x_train = pd.DataFrame(scaled_x_train,columns = x_train.columns)\n",
    "scaled_x_test = scaler.transform(x_test)\n",
    "scaled_x_test = pd.DataFrame(scaled_x_test, columns = x_test.columns)"
   ]
  },
  {
   "cell_type": "code",
   "execution_count": 16,
   "id": "118dee0b",
   "metadata": {
    "execution": {
     "iopub.execute_input": "2021-10-06T09:33:09.103750Z",
     "iopub.status.busy": "2021-10-06T09:33:09.103012Z",
     "iopub.status.idle": "2021-10-06T09:33:09.339878Z",
     "shell.execute_reply": "2021-10-06T09:33:09.339203Z",
     "shell.execute_reply.started": "2021-10-06T09:27:52.648366Z"
    },
    "papermill": {
     "duration": 0.274824,
     "end_time": "2021-10-06T09:33:09.340020",
     "exception": false,
     "start_time": "2021-10-06T09:33:09.065196",
     "status": "completed"
    },
    "tags": []
   },
   "outputs": [],
   "source": [
    "from sklearn.ensemble import RandomForestClassifier\n",
    "rfr = RandomForestClassifier(random_state=1)"
   ]
  },
  {
   "cell_type": "code",
   "execution_count": 17,
   "id": "f0414beb",
   "metadata": {
    "execution": {
     "iopub.execute_input": "2021-10-06T09:33:09.420063Z",
     "iopub.status.busy": "2021-10-06T09:33:09.413343Z",
     "iopub.status.idle": "2021-10-06T09:33:11.755410Z",
     "shell.execute_reply": "2021-10-06T09:33:11.755933Z",
     "shell.execute_reply.started": "2021-10-06T09:27:52.658456Z"
    },
    "papermill": {
     "duration": 2.382798,
     "end_time": "2021-10-06T09:33:11.756110",
     "exception": false,
     "start_time": "2021-10-06T09:33:09.373312",
     "status": "completed"
    },
    "tags": []
   },
   "outputs": [],
   "source": [
    "#fit the random forest model to the training dataset\n",
    "rfr.fit(scaled_x_train, y_train)\n",
    "#obtain predictions\n",
    "predicted_values = rfr.predict(scaled_x_test)"
   ]
  },
  {
   "cell_type": "code",
   "execution_count": 18,
   "id": "b4d280c5",
   "metadata": {
    "execution": {
     "iopub.execute_input": "2021-10-06T09:33:11.838924Z",
     "iopub.status.busy": "2021-10-06T09:33:11.833688Z",
     "iopub.status.idle": "2021-10-06T09:33:11.843698Z",
     "shell.execute_reply": "2021-10-06T09:33:11.843194Z",
     "shell.execute_reply.started": "2021-10-06T09:27:54.823879Z"
    },
    "papermill": {
     "duration": 0.053853,
     "end_time": "2021-10-06T09:33:11.843850",
     "exception": false,
     "start_time": "2021-10-06T09:33:11.789997",
     "status": "completed"
    },
    "tags": []
   },
   "outputs": [
    {
     "data": {
      "text/plain": [
       "0.929"
      ]
     },
     "execution_count": 18,
     "metadata": {},
     "output_type": "execute_result"
    }
   ],
   "source": [
    "# Obtain the accuracy\n",
    "from sklearn.metrics import accuracy_score\n",
    "accuracy = accuracy_score(y_test, predicted_values)\n",
    "round(accuracy, 4) "
   ]
  },
  {
   "cell_type": "code",
   "execution_count": 19,
   "id": "614c28c6",
   "metadata": {
    "execution": {
     "iopub.execute_input": "2021-10-06T09:33:11.931404Z",
     "iopub.status.busy": "2021-10-06T09:33:11.930700Z",
     "iopub.status.idle": "2021-10-06T09:33:12.894578Z",
     "shell.execute_reply": "2021-10-06T09:33:12.893983Z",
     "shell.execute_reply.started": "2021-10-06T09:27:54.838343Z"
    },
    "papermill": {
     "duration": 1.017704,
     "end_time": "2021-10-06T09:33:12.894724",
     "exception": false,
     "start_time": "2021-10-06T09:33:11.877020",
     "status": "completed"
    },
    "tags": []
   },
   "outputs": [],
   "source": [
    "from sklearn.ensemble import ExtraTreesClassifier\n",
    "etc = ExtraTreesClassifier(random_state = 1)\n",
    "#fit the extra trees model to the training dataset\n",
    "etc.fit(scaled_x_train, y_train)\n",
    "#obtain predictions\n",
    "predicted_values = etc.predict(scaled_x_test)"
   ]
  },
  {
   "cell_type": "code",
   "execution_count": 20,
   "id": "0c3b2da9",
   "metadata": {
    "execution": {
     "iopub.execute_input": "2021-10-06T09:33:12.974491Z",
     "iopub.status.busy": "2021-10-06T09:33:12.973797Z",
     "iopub.status.idle": "2021-10-06T09:33:12.978211Z",
     "shell.execute_reply": "2021-10-06T09:33:12.977556Z",
     "shell.execute_reply.started": "2021-10-06T09:27:55.753003Z"
    },
    "papermill": {
     "duration": 0.050397,
     "end_time": "2021-10-06T09:33:12.978359",
     "exception": false,
     "start_time": "2021-10-06T09:33:12.927962",
     "status": "completed"
    },
    "tags": []
   },
   "outputs": [
    {
     "data": {
      "text/plain": [
       "0.928"
      ]
     },
     "execution_count": 20,
     "metadata": {},
     "output_type": "execute_result"
    }
   ],
   "source": [
    "# Obtain the accuracy\n",
    "accuracy = accuracy_score(y_test, predicted_values)\n",
    "round(accuracy, 4) "
   ]
  },
  {
   "cell_type": "code",
   "execution_count": 21,
   "id": "bccb5dd2",
   "metadata": {
    "execution": {
     "iopub.execute_input": "2021-10-06T09:33:13.052023Z",
     "iopub.status.busy": "2021-10-06T09:33:13.051032Z",
     "iopub.status.idle": "2021-10-06T09:33:14.732824Z",
     "shell.execute_reply": "2021-10-06T09:33:14.733767Z",
     "shell.execute_reply.started": "2021-10-06T09:27:55.766614Z"
    },
    "papermill": {
     "duration": 1.721925,
     "end_time": "2021-10-06T09:33:14.734107",
     "exception": false,
     "start_time": "2021-10-06T09:33:13.012182",
     "status": "completed"
    },
    "tags": []
   },
   "outputs": [
    {
     "name": "stderr",
     "output_type": "stream",
     "text": [
      "/opt/conda/lib/python3.7/site-packages/xgboost/sklearn.py:1146: UserWarning: The use of label encoder in XGBClassifier is deprecated and will be removed in a future release. To remove this warning, do the following: 1) Pass option use_label_encoder=False when constructing XGBClassifier object; and 2) Encode your labels (y) as integers starting with 0, i.e. 0, 1, 2, ..., [num_class - 1].\n",
      "  warnings.warn(label_encoder_deprecation_msg, UserWarning)\n"
     ]
    },
    {
     "name": "stdout",
     "output_type": "stream",
     "text": [
      "[09:33:13] WARNING: ../src/learner.cc:1095: Starting in XGBoost 1.3.0, the default evaluation metric used with the objective 'binary:logistic' was changed from 'error' to 'logloss'. Explicitly set eval_metric if you'd like to restore the old behavior.\n"
     ]
    }
   ],
   "source": [
    "from xgboost import XGBClassifier\n",
    "xgbc = XGBClassifier(random_state=1)\n",
    "#fit the xgboost model to the training dataset\n",
    "xgbc.fit(scaled_x_train, y_train)\n",
    "#obtain predictions\n",
    "predicted_values = xgbc.predict(scaled_x_test)"
   ]
  },
  {
   "cell_type": "code",
   "execution_count": 22,
   "id": "68a4b5b4",
   "metadata": {
    "execution": {
     "iopub.execute_input": "2021-10-06T09:33:14.823481Z",
     "iopub.status.busy": "2021-10-06T09:33:14.822579Z",
     "iopub.status.idle": "2021-10-06T09:33:14.832468Z",
     "shell.execute_reply": "2021-10-06T09:33:14.831768Z",
     "shell.execute_reply.started": "2021-10-06T09:27:57.202472Z"
    },
    "papermill": {
     "duration": 0.057548,
     "end_time": "2021-10-06T09:33:14.832649",
     "exception": false,
     "start_time": "2021-10-06T09:33:14.775101",
     "status": "completed"
    },
    "tags": []
   },
   "outputs": [
    {
     "data": {
      "text/plain": [
       "0.9455"
      ]
     },
     "execution_count": 22,
     "metadata": {},
     "output_type": "execute_result"
    }
   ],
   "source": [
    "# Obtain the accuracy\n",
    "accuracy = accuracy_score(y_test, predicted_values)\n",
    "round(accuracy, 4) "
   ]
  },
  {
   "cell_type": "code",
   "execution_count": 23,
   "id": "8ad91736",
   "metadata": {
    "execution": {
     "iopub.execute_input": "2021-10-06T09:33:14.913722Z",
     "iopub.status.busy": "2021-10-06T09:33:14.912557Z",
     "iopub.status.idle": "2021-10-06T09:33:16.379435Z",
     "shell.execute_reply": "2021-10-06T09:33:16.380005Z",
     "shell.execute_reply.started": "2021-10-06T09:27:57.219343Z"
    },
    "papermill": {
     "duration": 1.50974,
     "end_time": "2021-10-06T09:33:16.380243",
     "exception": false,
     "start_time": "2021-10-06T09:33:14.870503",
     "status": "completed"
    },
    "tags": []
   },
   "outputs": [
    {
     "data": {
      "text/html": [
       "<style type='text/css'>\n",
       ".datatable table.frame { margin-bottom: 0; }\n",
       ".datatable table.frame thead { border-bottom: none; }\n",
       ".datatable table.frame tr.coltypes td {  color: #FFFFFF;  line-height: 6px;  padding: 0 0.5em;}\n",
       ".datatable .bool    { background: #DDDD99; }\n",
       ".datatable .object  { background: #565656; }\n",
       ".datatable .int     { background: #5D9E5D; }\n",
       ".datatable .float   { background: #4040CC; }\n",
       ".datatable .str     { background: #CC4040; }\n",
       ".datatable .time    { background: #40CC40; }\n",
       ".datatable .row_index {  background: var(--jp-border-color3);  border-right: 1px solid var(--jp-border-color0);  color: var(--jp-ui-font-color3);  font-size: 9px;}\n",
       ".datatable .frame tbody td { text-align: left; }\n",
       ".datatable .frame tr.coltypes .row_index {  background: var(--jp-border-color0);}\n",
       ".datatable th:nth-child(2) { padding-left: 12px; }\n",
       ".datatable .hellipsis {  color: var(--jp-cell-editor-border-color);}\n",
       ".datatable .vellipsis {  background: var(--jp-layout-color0);  color: var(--jp-cell-editor-border-color);}\n",
       ".datatable .na {  color: var(--jp-cell-editor-border-color);  font-size: 80%;}\n",
       ".datatable .sp {  opacity: 0.25;}\n",
       ".datatable .footer { font-size: 9px; }\n",
       ".datatable .frame_dimensions {  background: var(--jp-border-color3);  border-top: 1px solid var(--jp-border-color0);  color: var(--jp-ui-font-color3);  display: inline-block;  opacity: 0.6;  padding: 1px 10px 1px 5px;}\n",
       "</style>\n"
      ],
      "text/plain": [
       "<IPython.core.display.HTML object>"
      ]
     },
     "metadata": {},
     "output_type": "display_data"
    }
   ],
   "source": [
    "from lightgbm import LGBMClassifier\n",
    "lgbm = LGBMClassifier(random_state=1)\n",
    "#fit the lightgbm model to the training dataset\n",
    "lgbm.fit(scaled_x_train, y_train)\n",
    "#obtain predictions\n",
    "predicted_values = lgbm.predict(scaled_x_test)"
   ]
  },
  {
   "cell_type": "code",
   "execution_count": 24,
   "id": "a3d6c692",
   "metadata": {
    "execution": {
     "iopub.execute_input": "2021-10-06T09:33:16.465530Z",
     "iopub.status.busy": "2021-10-06T09:33:16.464767Z",
     "iopub.status.idle": "2021-10-06T09:33:16.469438Z",
     "shell.execute_reply": "2021-10-06T09:33:16.468867Z",
     "shell.execute_reply.started": "2021-10-06T09:27:57.452548Z"
    },
    "papermill": {
     "duration": 0.052674,
     "end_time": "2021-10-06T09:33:16.469580",
     "exception": false,
     "start_time": "2021-10-06T09:33:16.416906",
     "status": "completed"
    },
    "tags": []
   },
   "outputs": [
    {
     "data": {
      "text/plain": [
       "0.9395"
      ]
     },
     "execution_count": 24,
     "metadata": {},
     "output_type": "execute_result"
    }
   ],
   "source": [
    "# Obtain the accuracy\n",
    "accuracy = accuracy_score(y_test, predicted_values)\n",
    "round(accuracy, 4)"
   ]
  },
  {
   "cell_type": "code",
   "execution_count": 25,
   "id": "8b5c8b6d",
   "metadata": {
    "execution": {
     "iopub.execute_input": "2021-10-06T09:33:16.547963Z",
     "iopub.status.busy": "2021-10-06T09:33:16.547095Z",
     "iopub.status.idle": "2021-10-06T09:33:16.550193Z",
     "shell.execute_reply": "2021-10-06T09:33:16.550661Z",
     "shell.execute_reply.started": "2021-10-06T09:27:57.468928Z"
    },
    "papermill": {
     "duration": 0.045892,
     "end_time": "2021-10-06T09:33:16.550829",
     "exception": false,
     "start_time": "2021-10-06T09:33:16.504937",
     "status": "completed"
    },
    "tags": []
   },
   "outputs": [],
   "source": [
    "from sklearn.model_selection import RandomizedSearchCV\n",
    "\n",
    "n_estimators = [50,100,300,500,1000] \n",
    "min_samples_split = [2,3,5,7,9] \n",
    "min_samples_leaf = [1,2,4,6,8] \n",
    "max_features = ['auto','sqrt','log2',None] \n",
    "hyperparameter_grid = {'n_estimators':n_estimators,\n",
    "                       'min_samples_leaf':min_samples_leaf,\n",
    "                       'min_samples_split':min_samples_split,\n",
    "                       'max_features':max_features}\n"
   ]
  },
  {
   "cell_type": "code",
   "execution_count": 26,
   "id": "eea57832",
   "metadata": {
    "execution": {
     "iopub.execute_input": "2021-10-06T09:33:16.633277Z",
     "iopub.status.busy": "2021-10-06T09:33:16.632620Z",
     "iopub.status.idle": "2021-10-06T09:35:48.981679Z",
     "shell.execute_reply": "2021-10-06T09:35:48.981003Z",
     "shell.execute_reply.started": "2021-10-06T09:27:57.476480Z"
    },
    "papermill": {
     "duration": 152.395738,
     "end_time": "2021-10-06T09:35:48.981862",
     "exception": false,
     "start_time": "2021-10-06T09:33:16.586124",
     "status": "completed"
    },
    "tags": []
   },
   "outputs": [],
   "source": [
    "rand_search = RandomizedSearchCV(estimator = etc,param_distributions=hyperparameter_grid,random_state=1)\n",
    "rand_search = rand_search.fit(scaled_x_train,y_train)"
   ]
  },
  {
   "cell_type": "code",
   "execution_count": 27,
   "id": "1c6a9435",
   "metadata": {
    "execution": {
     "iopub.execute_input": "2021-10-06T09:35:49.068873Z",
     "iopub.status.busy": "2021-10-06T09:35:49.067966Z",
     "iopub.status.idle": "2021-10-06T09:35:49.073318Z",
     "shell.execute_reply": "2021-10-06T09:35:49.072464Z",
     "shell.execute_reply.started": "2021-10-06T09:30:16.295173Z"
    },
    "papermill": {
     "duration": 0.051587,
     "end_time": "2021-10-06T09:35:49.073493",
     "exception": false,
     "start_time": "2021-10-06T09:35:49.021906",
     "status": "completed"
    },
    "tags": []
   },
   "outputs": [
    {
     "data": {
      "text/plain": [
       "{'n_estimators': 1000,\n",
       " 'min_samples_split': 2,\n",
       " 'min_samples_leaf': 8,\n",
       " 'max_features': None}"
      ]
     },
     "execution_count": 27,
     "metadata": {},
     "output_type": "execute_result"
    }
   ],
   "source": [
    "rand_search.best_params_"
   ]
  },
  {
   "cell_type": "code",
   "execution_count": 28,
   "id": "7f7c1f50",
   "metadata": {
    "execution": {
     "iopub.execute_input": "2021-10-06T09:35:49.166840Z",
     "iopub.status.busy": "2021-10-06T09:35:49.158980Z",
     "iopub.status.idle": "2021-10-06T09:36:02.053868Z",
     "shell.execute_reply": "2021-10-06T09:36:02.054383Z",
     "shell.execute_reply.started": "2021-10-06T09:30:16.304342Z"
    },
    "papermill": {
     "duration": 12.942638,
     "end_time": "2021-10-06T09:36:02.054603",
     "exception": false,
     "start_time": "2021-10-06T09:35:49.111965",
     "status": "completed"
    },
    "tags": []
   },
   "outputs": [],
   "source": [
    "n_classifier = ExtraTreesClassifier(random_state=1,n_estimators = 1000,\n",
    "                                       min_samples_leaf= 8,max_features=None,\n",
    "                                       min_samples_split=2)\n",
    "n_classifier.fit(scaled_x_train,y_train)\n",
    "predicted_values = n_classifier.predict(scaled_x_test)"
   ]
  },
  {
   "cell_type": "code",
   "execution_count": 29,
   "id": "f825ef83",
   "metadata": {
    "execution": {
     "iopub.execute_input": "2021-10-06T09:36:02.143005Z",
     "iopub.status.busy": "2021-10-06T09:36:02.141866Z",
     "iopub.status.idle": "2021-10-06T09:36:02.157383Z",
     "shell.execute_reply": "2021-10-06T09:36:02.157950Z",
     "shell.execute_reply.started": "2021-10-06T09:30:28.474126Z"
    },
    "papermill": {
     "duration": 0.062469,
     "end_time": "2021-10-06T09:36:02.158205",
     "exception": false,
     "start_time": "2021-10-06T09:36:02.095736",
     "status": "completed"
    },
    "tags": []
   },
   "outputs": [
    {
     "data": {
      "text/plain": [
       "0.927"
      ]
     },
     "execution_count": 29,
     "metadata": {},
     "output_type": "execute_result"
    }
   ],
   "source": [
    "# Obtain the accuracy\n",
    "accuracy = accuracy_score(y_test, predicted_values)\n",
    "round(accuracy, 4)"
   ]
  },
  {
   "cell_type": "code",
   "execution_count": 30,
   "id": "47023511",
   "metadata": {
    "execution": {
     "iopub.execute_input": "2021-10-06T09:36:02.249492Z",
     "iopub.status.busy": "2021-10-06T09:36:02.248738Z",
     "iopub.status.idle": "2021-10-06T09:36:02.353524Z",
     "shell.execute_reply": "2021-10-06T09:36:02.353994Z",
     "shell.execute_reply.started": "2021-10-06T09:30:28.489424Z"
    },
    "papermill": {
     "duration": 0.154177,
     "end_time": "2021-10-06T09:36:02.354235",
     "exception": false,
     "start_time": "2021-10-06T09:36:02.200058",
     "status": "completed"
    },
    "tags": []
   },
   "outputs": [
    {
     "data": {
      "text/html": [
       "<div>\n",
       "<style scoped>\n",
       "    .dataframe tbody tr th:only-of-type {\n",
       "        vertical-align: middle;\n",
       "    }\n",
       "\n",
       "    .dataframe tbody tr th {\n",
       "        vertical-align: top;\n",
       "    }\n",
       "\n",
       "    .dataframe thead th {\n",
       "        text-align: right;\n",
       "    }\n",
       "</style>\n",
       "<table border=\"1\" class=\"dataframe\">\n",
       "  <thead>\n",
       "    <tr style=\"text-align: right;\">\n",
       "      <th></th>\n",
       "      <th>feature</th>\n",
       "      <th>importance</th>\n",
       "    </tr>\n",
       "  </thead>\n",
       "  <tbody>\n",
       "    <tr>\n",
       "      <th>0</th>\n",
       "      <td>tau1</td>\n",
       "      <td>0.137240</td>\n",
       "    </tr>\n",
       "    <tr>\n",
       "      <th>1</th>\n",
       "      <td>tau2</td>\n",
       "      <td>0.140508</td>\n",
       "    </tr>\n",
       "    <tr>\n",
       "      <th>2</th>\n",
       "      <td>tau3</td>\n",
       "      <td>0.134680</td>\n",
       "    </tr>\n",
       "    <tr>\n",
       "      <th>3</th>\n",
       "      <td>tau4</td>\n",
       "      <td>0.135417</td>\n",
       "    </tr>\n",
       "    <tr>\n",
       "      <th>4</th>\n",
       "      <td>p1</td>\n",
       "      <td>0.003683</td>\n",
       "    </tr>\n",
       "  </tbody>\n",
       "</table>\n",
       "</div>"
      ],
      "text/plain": [
       "  feature  importance\n",
       "0    tau1    0.137240\n",
       "1    tau2    0.140508\n",
       "2    tau3    0.134680\n",
       "3    tau4    0.135417\n",
       "4      p1    0.003683"
      ]
     },
     "execution_count": 30,
     "metadata": {},
     "output_type": "execute_result"
    }
   ],
   "source": [
    "imp = rand_search.best_estimator_.feature_importances_\n",
    "feat_imp = pd.DataFrame()\n",
    "feat_imp['feature'] = x.columns\n",
    "feat_imp['importance'] = imp\n",
    "feat_imp.head()"
   ]
  },
  {
   "cell_type": "code",
   "execution_count": 31,
   "id": "878fb981",
   "metadata": {
    "execution": {
     "iopub.execute_input": "2021-10-06T09:36:02.432340Z",
     "iopub.status.busy": "2021-10-06T09:36:02.431498Z",
     "iopub.status.idle": "2021-10-06T09:36:02.444354Z",
     "shell.execute_reply": "2021-10-06T09:36:02.444923Z",
     "shell.execute_reply.started": "2021-10-06T09:30:28.601449Z"
    },
    "papermill": {
     "duration": 0.053547,
     "end_time": "2021-10-06T09:36:02.445098",
     "exception": false,
     "start_time": "2021-10-06T09:36:02.391551",
     "status": "completed"
    },
    "tags": []
   },
   "outputs": [
    {
     "data": {
      "text/html": [
       "<div>\n",
       "<style scoped>\n",
       "    .dataframe tbody tr th:only-of-type {\n",
       "        vertical-align: middle;\n",
       "    }\n",
       "\n",
       "    .dataframe tbody tr th {\n",
       "        vertical-align: top;\n",
       "    }\n",
       "\n",
       "    .dataframe thead th {\n",
       "        text-align: right;\n",
       "    }\n",
       "</style>\n",
       "<table border=\"1\" class=\"dataframe\">\n",
       "  <thead>\n",
       "    <tr style=\"text-align: right;\">\n",
       "      <th></th>\n",
       "      <th>feature</th>\n",
       "      <th>importance</th>\n",
       "    </tr>\n",
       "  </thead>\n",
       "  <tbody>\n",
       "    <tr>\n",
       "      <th>1</th>\n",
       "      <td>tau2</td>\n",
       "      <td>0.140508</td>\n",
       "    </tr>\n",
       "    <tr>\n",
       "      <th>0</th>\n",
       "      <td>tau1</td>\n",
       "      <td>0.137240</td>\n",
       "    </tr>\n",
       "    <tr>\n",
       "      <th>3</th>\n",
       "      <td>tau4</td>\n",
       "      <td>0.135417</td>\n",
       "    </tr>\n",
       "    <tr>\n",
       "      <th>2</th>\n",
       "      <td>tau3</td>\n",
       "      <td>0.134680</td>\n",
       "    </tr>\n",
       "    <tr>\n",
       "      <th>10</th>\n",
       "      <td>g3</td>\n",
       "      <td>0.113063</td>\n",
       "    </tr>\n",
       "    <tr>\n",
       "      <th>11</th>\n",
       "      <td>g4</td>\n",
       "      <td>0.109541</td>\n",
       "    </tr>\n",
       "    <tr>\n",
       "      <th>9</th>\n",
       "      <td>g2</td>\n",
       "      <td>0.107578</td>\n",
       "    </tr>\n",
       "    <tr>\n",
       "      <th>8</th>\n",
       "      <td>g1</td>\n",
       "      <td>0.102562</td>\n",
       "    </tr>\n",
       "    <tr>\n",
       "      <th>6</th>\n",
       "      <td>p3</td>\n",
       "      <td>0.005429</td>\n",
       "    </tr>\n",
       "    <tr>\n",
       "      <th>5</th>\n",
       "      <td>p2</td>\n",
       "      <td>0.005337</td>\n",
       "    </tr>\n",
       "    <tr>\n",
       "      <th>7</th>\n",
       "      <td>p4</td>\n",
       "      <td>0.004962</td>\n",
       "    </tr>\n",
       "    <tr>\n",
       "      <th>4</th>\n",
       "      <td>p1</td>\n",
       "      <td>0.003683</td>\n",
       "    </tr>\n",
       "  </tbody>\n",
       "</table>\n",
       "</div>"
      ],
      "text/plain": [
       "   feature  importance\n",
       "1     tau2    0.140508\n",
       "0     tau1    0.137240\n",
       "3     tau4    0.135417\n",
       "2     tau3    0.134680\n",
       "10      g3    0.113063\n",
       "11      g4    0.109541\n",
       "9       g2    0.107578\n",
       "8       g1    0.102562\n",
       "6       p3    0.005429\n",
       "5       p2    0.005337\n",
       "7       p4    0.004962\n",
       "4       p1    0.003683"
      ]
     },
     "execution_count": 31,
     "metadata": {},
     "output_type": "execute_result"
    }
   ],
   "source": [
    "feat_imp.sort_values(by='importance', ascending=False)"
   ]
  },
  {
   "cell_type": "markdown",
   "id": "e0dbe548",
   "metadata": {
    "execution": {
     "iopub.execute_input": "2021-10-06T09:23:01.953420Z",
     "iopub.status.busy": "2021-10-06T09:23:01.952883Z",
     "iopub.status.idle": "2021-10-06T09:23:01.956637Z",
     "shell.execute_reply": "2021-10-06T09:23:01.955875Z",
     "shell.execute_reply.started": "2021-10-06T09:23:01.953368Z"
    },
    "papermill": {
     "duration": 0.036392,
     "end_time": "2021-10-06T09:36:02.520129",
     "exception": false,
     "start_time": "2021-10-06T09:36:02.483737",
     "status": "completed"
    },
    "tags": []
   },
   "source": [
    "### Merci Beaucoup"
   ]
  },
  {
   "cell_type": "code",
   "execution_count": null,
   "id": "160b8ffc",
   "metadata": {
    "papermill": {
     "duration": 0.036394,
     "end_time": "2021-10-06T09:36:02.593283",
     "exception": false,
     "start_time": "2021-10-06T09:36:02.556889",
     "status": "completed"
    },
    "tags": []
   },
   "outputs": [],
   "source": []
  }
 ],
 "metadata": {
  "kernelspec": {
   "display_name": "Python 3",
   "language": "python",
   "name": "python3"
  },
  "language_info": {
   "codemirror_mode": {
    "name": "ipython",
    "version": 3
   },
   "file_extension": ".py",
   "mimetype": "text/x-python",
   "name": "python",
   "nbconvert_exporter": "python",
   "pygments_lexer": "ipython3",
   "version": "3.7.10"
  },
  "papermill": {
   "default_parameters": {},
   "duration": 190.076625,
   "end_time": "2021-10-06T09:36:03.873127",
   "environment_variables": {},
   "exception": null,
   "input_path": "__notebook__.ipynb",
   "output_path": "__notebook__.ipynb",
   "parameters": {},
   "start_time": "2021-10-06T09:32:53.796502",
   "version": "2.3.3"
  }
 },
 "nbformat": 4,
 "nbformat_minor": 5
}
