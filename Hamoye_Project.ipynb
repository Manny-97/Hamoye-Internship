{
  "nbformat": 4,
  "nbformat_minor": 0,
  "metadata": {
    "colab": {
      "name": "Hamoye Project.ipynb",
      "provenance": [],
      "collapsed_sections": [],
      "authorship_tag": "ABX9TyNgIh+GZBOWsbdl9AUkZAec",
      "include_colab_link": true
    },
    "kernelspec": {
      "display_name": "Python 3",
      "name": "python3"
    },
    "language_info": {
      "name": "python"
    }
  },
  "cells": [
    {
      "cell_type": "markdown",
      "metadata": {
        "id": "view-in-github",
        "colab_type": "text"
      },
      "source": [
        "<a href=\"https://colab.research.google.com/github/Manny-97/Hamoye-Internship/blob/main/Hamoye_Project.ipynb\" target=\"_parent\"><img src=\"https://colab.research.google.com/assets/colab-badge.svg\" alt=\"Open In Colab\"/></a>"
      ]
    },
    {
      "cell_type": "code",
      "metadata": {
        "id": "GXpwCYPox1lj"
      },
      "source": [
        "# I mporting the necessary Library\n",
        "import numpy as np #For Mathematical computation\n",
        "import pandas as pd #For Data Manipulation\n",
        "import matplotlib.pyplot as plt #For Data Visualization\n",
        "import seaborn as sns\n"
      ],
      "execution_count": 1,
      "outputs": []
    },
    {
      "cell_type": "code",
      "metadata": {
        "id": "Rq_bO1t1zTbV"
      },
      "source": [
        "\n",
        "url = 'https://raw.githubusercontent.com/Muhammadbravo/hamoye/main/ScrapedData/ElectricalVehicles/EVdataset.csv'\n",
        "data = pd.read_csv(url, index_col=0)"
      ],
      "execution_count": 2,
      "outputs": []
    },
    {
      "cell_type": "code",
      "metadata": {
        "colab": {
          "base_uri": "https://localhost:8080/",
          "height": 234
        },
        "id": "2boIyEQlzla5",
        "outputId": "3eed8b9c-339b-46ba-badb-5df90f4d247d"
      },
      "source": [
        "data.head()"
      ],
      "execution_count": 3,
      "outputs": [
        {
          "output_type": "execute_result",
          "data": {
            "text/html": [
              "<div>\n",
              "<style scoped>\n",
              "    .dataframe tbody tr th:only-of-type {\n",
              "        vertical-align: middle;\n",
              "    }\n",
              "\n",
              "    .dataframe tbody tr th {\n",
              "        vertical-align: top;\n",
              "    }\n",
              "\n",
              "    .dataframe thead th {\n",
              "        text-align: right;\n",
              "    }\n",
              "</style>\n",
              "<table border=\"1\" class=\"dataframe\">\n",
              "  <thead>\n",
              "    <tr style=\"text-align: right;\">\n",
              "      <th></th>\n",
              "      <th>model</th>\n",
              "      <th>battery kWh</th>\n",
              "      <th>acceleration sec</th>\n",
              "      <th>top speeds km/h</th>\n",
              "      <th>efficiency Wh/km</th>\n",
              "      <th>fast charge km/h</th>\n",
              "      <th>price uk</th>\n",
              "      <th>price ger</th>\n",
              "      <th>price nl</th>\n",
              "    </tr>\n",
              "    <tr>\n",
              "      <th>vehicle name</th>\n",
              "      <th></th>\n",
              "      <th></th>\n",
              "      <th></th>\n",
              "      <th></th>\n",
              "      <th></th>\n",
              "      <th></th>\n",
              "      <th></th>\n",
              "      <th></th>\n",
              "      <th></th>\n",
              "    </tr>\n",
              "  </thead>\n",
              "  <tbody>\n",
              "    <tr>\n",
              "      <th>Mercedes</th>\n",
              "      <td>EQS 580 4MATIC</td>\n",
              "      <td>107.8</td>\n",
              "      <td>4.3 sec</td>\n",
              "      <td>210 km/h</td>\n",
              "      <td>177 Wh/km</td>\n",
              "      <td>800 km/h</td>\n",
              "      <td>* £115,000</td>\n",
              "      <td>€135,529</td>\n",
              "      <td>* €140,000</td>\n",
              "    </tr>\n",
              "    <tr>\n",
              "      <th>Tesla</th>\n",
              "      <td>Model 3 Standard Range Plus LFP</td>\n",
              "      <td>52.5</td>\n",
              "      <td>5.6 sec</td>\n",
              "      <td>225 km/h</td>\n",
              "      <td>150 Wh/km</td>\n",
              "      <td>560 km/h</td>\n",
              "      <td>£40,990</td>\n",
              "      <td>€43,560</td>\n",
              "      <td>€49,990</td>\n",
              "    </tr>\n",
              "    <tr>\n",
              "      <th>Tesla</th>\n",
              "      <td>Model Y Long Range Dual Motor</td>\n",
              "      <td>70.0</td>\n",
              "      <td>5.0 sec</td>\n",
              "      <td>217 km/h</td>\n",
              "      <td>171 Wh/km</td>\n",
              "      <td>520 km/h</td>\n",
              "      <td>* £54,000</td>\n",
              "      <td>€59,965</td>\n",
              "      <td>€65,010</td>\n",
              "    </tr>\n",
              "    <tr>\n",
              "      <th>Kia</th>\n",
              "      <td>EV6 GT</td>\n",
              "      <td>77.4</td>\n",
              "      <td>3.5 sec</td>\n",
              "      <td>260 km/h</td>\n",
              "      <td>196 Wh/km</td>\n",
              "      <td>920 km/h</td>\n",
              "      <td>£58,295</td>\n",
              "      <td>€65,990</td>\n",
              "      <td>€63,595</td>\n",
              "    </tr>\n",
              "    <tr>\n",
              "      <th>Tesla</th>\n",
              "      <td>Model 3 Long Range Dual Motor</td>\n",
              "      <td>70.0</td>\n",
              "      <td>4.4 sec</td>\n",
              "      <td>233 km/h</td>\n",
              "      <td>154 Wh/km</td>\n",
              "      <td>570 km/h</td>\n",
              "      <td>£48,490</td>\n",
              "      <td>NaN</td>\n",
              "      <td>NaN</td>\n",
              "    </tr>\n",
              "  </tbody>\n",
              "</table>\n",
              "</div>"
            ],
            "text/plain": [
              "                                        model  ...    price nl\n",
              "vehicle name                                   ...            \n",
              "Mercedes                       EQS 580 4MATIC  ...  * €140,000\n",
              "Tesla         Model 3 Standard Range Plus LFP  ...     €49,990\n",
              "Tesla           Model Y Long Range Dual Motor  ...     €65,010\n",
              "Kia                                    EV6 GT  ...     €63,595\n",
              "Tesla           Model 3 Long Range Dual Motor  ...         NaN\n",
              "\n",
              "[5 rows x 9 columns]"
            ]
          },
          "metadata": {},
          "execution_count": 3
        }
      ]
    },
    {
      "cell_type": "code",
      "metadata": {
        "colab": {
          "base_uri": "https://localhost:8080/",
          "height": 234
        },
        "id": "VG1Yr-COz_ZB",
        "outputId": "75eb62fb-ac16-4681-ff79-30f894383c7d"
      },
      "source": [
        "data.tail()"
      ],
      "execution_count": 4,
      "outputs": [
        {
          "output_type": "execute_result",
          "data": {
            "text/html": [
              "<div>\n",
              "<style scoped>\n",
              "    .dataframe tbody tr th:only-of-type {\n",
              "        vertical-align: middle;\n",
              "    }\n",
              "\n",
              "    .dataframe tbody tr th {\n",
              "        vertical-align: top;\n",
              "    }\n",
              "\n",
              "    .dataframe thead th {\n",
              "        text-align: right;\n",
              "    }\n",
              "</style>\n",
              "<table border=\"1\" class=\"dataframe\">\n",
              "  <thead>\n",
              "    <tr style=\"text-align: right;\">\n",
              "      <th></th>\n",
              "      <th>model</th>\n",
              "      <th>battery kWh</th>\n",
              "      <th>acceleration sec</th>\n",
              "      <th>top speeds km/h</th>\n",
              "      <th>efficiency Wh/km</th>\n",
              "      <th>fast charge km/h</th>\n",
              "      <th>price uk</th>\n",
              "      <th>price ger</th>\n",
              "      <th>price nl</th>\n",
              "    </tr>\n",
              "    <tr>\n",
              "      <th>vehicle name</th>\n",
              "      <th></th>\n",
              "      <th></th>\n",
              "      <th></th>\n",
              "      <th></th>\n",
              "      <th></th>\n",
              "      <th></th>\n",
              "      <th></th>\n",
              "      <th></th>\n",
              "      <th></th>\n",
              "    </tr>\n",
              "  </thead>\n",
              "  <tbody>\n",
              "    <tr>\n",
              "      <th>Toyota</th>\n",
              "      <td>PROACE Verso L 50 kWh</td>\n",
              "      <td>45.0</td>\n",
              "      <td>12.1 sec</td>\n",
              "      <td>130 km/h</td>\n",
              "      <td>250 Wh/km</td>\n",
              "      <td>240 km/h</td>\n",
              "      <td>NaN</td>\n",
              "      <td>€59,385</td>\n",
              "      <td>NaN</td>\n",
              "    </tr>\n",
              "    <tr>\n",
              "      <th>Citroen</th>\n",
              "      <td>e-SpaceTourer XL 50 kWh</td>\n",
              "      <td>45.0</td>\n",
              "      <td>12.1 sec</td>\n",
              "      <td>130 km/h</td>\n",
              "      <td>257 Wh/km</td>\n",
              "      <td>230 km/h</td>\n",
              "      <td>NaN</td>\n",
              "      <td>€52,230</td>\n",
              "      <td>€54,947</td>\n",
              "    </tr>\n",
              "    <tr>\n",
              "      <th>Citroen</th>\n",
              "      <td>e-SpaceTourer XS 50 kWh</td>\n",
              "      <td>45.0</td>\n",
              "      <td>12.1 sec</td>\n",
              "      <td>130 km/h</td>\n",
              "      <td>243 Wh/km</td>\n",
              "      <td>250 km/h</td>\n",
              "      <td>NaN</td>\n",
              "      <td>€50,880</td>\n",
              "      <td>NaN</td>\n",
              "    </tr>\n",
              "    <tr>\n",
              "      <th>Peugeot</th>\n",
              "      <td>e-Traveller Compact 50 kWh</td>\n",
              "      <td>45.0</td>\n",
              "      <td>12.1 sec</td>\n",
              "      <td>130 km/h</td>\n",
              "      <td>243 Wh/km</td>\n",
              "      <td>250 km/h</td>\n",
              "      <td>NaN</td>\n",
              "      <td>€50,880</td>\n",
              "      <td>NaN</td>\n",
              "    </tr>\n",
              "    <tr>\n",
              "      <th>Opel</th>\n",
              "      <td>Zafira-e Life M 50 kWh</td>\n",
              "      <td>45.0</td>\n",
              "      <td>12.1 sec</td>\n",
              "      <td>130 km/h</td>\n",
              "      <td>250 Wh/km</td>\n",
              "      <td>240 km/h</td>\n",
              "      <td>NaN</td>\n",
              "      <td>€53,800</td>\n",
              "      <td>€53,107</td>\n",
              "    </tr>\n",
              "  </tbody>\n",
              "</table>\n",
              "</div>"
            ],
            "text/plain": [
              "                                   model  battery kWh  ... price ger price nl\n",
              "vehicle name                                           ...                   \n",
              "Toyota             PROACE Verso L 50 kWh         45.0  ...   €59,385      NaN\n",
              "Citroen          e-SpaceTourer XL 50 kWh         45.0  ...   €52,230  €54,947\n",
              "Citroen          e-SpaceTourer XS 50 kWh         45.0  ...   €50,880      NaN\n",
              "Peugeot       e-Traveller Compact 50 kWh         45.0  ...   €50,880      NaN\n",
              "Opel              Zafira-e Life M 50 kWh         45.0  ...   €53,800  €53,107\n",
              "\n",
              "[5 rows x 9 columns]"
            ]
          },
          "metadata": {},
          "execution_count": 4
        }
      ]
    },
    {
      "cell_type": "code",
      "metadata": {
        "colab": {
          "base_uri": "https://localhost:8080/",
          "height": 234
        },
        "id": "ofQwzLUs06O7",
        "outputId": "ab4b89fc-e241-4e94-8418-2c2a1bd413f5"
      },
      "source": [
        "data.sample(5)"
      ],
      "execution_count": 5,
      "outputs": [
        {
          "output_type": "execute_result",
          "data": {
            "text/html": [
              "<div>\n",
              "<style scoped>\n",
              "    .dataframe tbody tr th:only-of-type {\n",
              "        vertical-align: middle;\n",
              "    }\n",
              "\n",
              "    .dataframe tbody tr th {\n",
              "        vertical-align: top;\n",
              "    }\n",
              "\n",
              "    .dataframe thead th {\n",
              "        text-align: right;\n",
              "    }\n",
              "</style>\n",
              "<table border=\"1\" class=\"dataframe\">\n",
              "  <thead>\n",
              "    <tr style=\"text-align: right;\">\n",
              "      <th></th>\n",
              "      <th>model</th>\n",
              "      <th>battery kWh</th>\n",
              "      <th>acceleration sec</th>\n",
              "      <th>top speeds km/h</th>\n",
              "      <th>efficiency Wh/km</th>\n",
              "      <th>fast charge km/h</th>\n",
              "      <th>price uk</th>\n",
              "      <th>price ger</th>\n",
              "      <th>price nl</th>\n",
              "    </tr>\n",
              "    <tr>\n",
              "      <th>vehicle name</th>\n",
              "      <th></th>\n",
              "      <th></th>\n",
              "      <th></th>\n",
              "      <th></th>\n",
              "      <th></th>\n",
              "      <th></th>\n",
              "      <th></th>\n",
              "      <th></th>\n",
              "      <th></th>\n",
              "    </tr>\n",
              "  </thead>\n",
              "  <tbody>\n",
              "    <tr>\n",
              "      <th>Citroen</th>\n",
              "      <td>e-SpaceTourer M 75 kWh</td>\n",
              "      <td>65.0</td>\n",
              "      <td>13.3 sec</td>\n",
              "      <td>130 km/h</td>\n",
              "      <td>260 Wh/km</td>\n",
              "      <td>290 km/h</td>\n",
              "      <td>NaN</td>\n",
              "      <td>€57,440</td>\n",
              "      <td>€62,026</td>\n",
              "    </tr>\n",
              "    <tr>\n",
              "      <th>Opel</th>\n",
              "      <td>Zafira-e Life M 75 kWh</td>\n",
              "      <td>65.0</td>\n",
              "      <td>13.3 sec</td>\n",
              "      <td>130 km/h</td>\n",
              "      <td>260 Wh/km</td>\n",
              "      <td>290 km/h</td>\n",
              "      <td>NaN</td>\n",
              "      <td>€59,800</td>\n",
              "      <td>€62,061</td>\n",
              "    </tr>\n",
              "    <tr>\n",
              "      <th>Lexus</th>\n",
              "      <td>UX 300e</td>\n",
              "      <td>50.0</td>\n",
              "      <td>7.5 sec</td>\n",
              "      <td>160 km/h</td>\n",
              "      <td>192 Wh/km</td>\n",
              "      <td>150 km/h</td>\n",
              "      <td>£43,900</td>\n",
              "      <td>€47,550</td>\n",
              "      <td>€39,990</td>\n",
              "    </tr>\n",
              "    <tr>\n",
              "      <th>Peugeot</th>\n",
              "      <td>e-Rifter Long 50 kWh</td>\n",
              "      <td>45.0</td>\n",
              "      <td>11.7 sec</td>\n",
              "      <td>135 km/h</td>\n",
              "      <td>231 Wh/km</td>\n",
              "      <td>260 km/h</td>\n",
              "      <td>£32,455</td>\n",
              "      <td>€42,590</td>\n",
              "      <td>NaN</td>\n",
              "    </tr>\n",
              "    <tr>\n",
              "      <th>Ford</th>\n",
              "      <td>Mustang Mach-E GT</td>\n",
              "      <td>88.0</td>\n",
              "      <td>4.4 sec</td>\n",
              "      <td>200 km/h</td>\n",
              "      <td>215 Wh/km</td>\n",
              "      <td>400 km/h</td>\n",
              "      <td>* £67,225</td>\n",
              "      <td>NaN</td>\n",
              "      <td>* €75,490</td>\n",
              "    </tr>\n",
              "  </tbody>\n",
              "</table>\n",
              "</div>"
            ],
            "text/plain": [
              "                               model  battery kWh  ... price ger   price nl\n",
              "vehicle name                                       ...                     \n",
              "Citroen       e-SpaceTourer M 75 kWh         65.0  ...   €57,440    €62,026\n",
              "Opel          Zafira-e Life M 75 kWh         65.0  ...   €59,800    €62,061\n",
              "Lexus                        UX 300e         50.0  ...   €47,550    €39,990\n",
              "Peugeot         e-Rifter Long 50 kWh         45.0  ...   €42,590        NaN\n",
              "Ford               Mustang Mach-E GT         88.0  ...       NaN  * €75,490\n",
              "\n",
              "[5 rows x 9 columns]"
            ]
          },
          "metadata": {},
          "execution_count": 5
        }
      ]
    },
    {
      "cell_type": "code",
      "metadata": {
        "colab": {
          "base_uri": "https://localhost:8080/"
        },
        "id": "BzV5bm_b07h7",
        "outputId": "8ea0596c-2d62-4943-ca9b-5e73fd0372ce"
      },
      "source": [
        "data.columns"
      ],
      "execution_count": 6,
      "outputs": [
        {
          "output_type": "execute_result",
          "data": {
            "text/plain": [
              "Index(['model', 'battery kWh', 'acceleration sec', 'top speeds km/h',\n",
              "       'efficiency Wh/km', 'fast charge km/h', 'price uk', 'price ger',\n",
              "       'price nl'],\n",
              "      dtype='object')"
            ]
          },
          "metadata": {},
          "execution_count": 6
        }
      ]
    },
    {
      "cell_type": "code",
      "metadata": {
        "colab": {
          "base_uri": "https://localhost:8080/"
        },
        "id": "B1l1eMC50_pE",
        "outputId": "fa2343ea-aeed-4db3-8b74-9aac49c3ba78"
      },
      "source": [
        "data.isnull().sum()"
      ],
      "execution_count": 7,
      "outputs": [
        {
          "output_type": "execute_result",
          "data": {
            "text/plain": [
              "model                0\n",
              "battery kWh          0\n",
              "acceleration sec     0\n",
              "top speeds km/h      0\n",
              "efficiency Wh/km     0\n",
              "fast charge km/h     0\n",
              "price uk            45\n",
              "price ger           13\n",
              "price nl            25\n",
              "dtype: int64"
            ]
          },
          "metadata": {},
          "execution_count": 7
        }
      ]
    },
    {
      "cell_type": "code",
      "metadata": {
        "colab": {
          "base_uri": "https://localhost:8080/"
        },
        "id": "2KKjLRQa1NzM",
        "outputId": "1cd8aa56-1d02-421a-c4f7-464b9df6f257"
      },
      "source": [
        "data.info()"
      ],
      "execution_count": 8,
      "outputs": [
        {
          "output_type": "stream",
          "name": "stdout",
          "text": [
            "<class 'pandas.core.frame.DataFrame'>\n",
            "Index: 181 entries, Mercedes to Opel\n",
            "Data columns (total 9 columns):\n",
            " #   Column            Non-Null Count  Dtype  \n",
            "---  ------            --------------  -----  \n",
            " 0   model             181 non-null    object \n",
            " 1   battery kWh       181 non-null    float64\n",
            " 2   acceleration sec  181 non-null    object \n",
            " 3   top speeds km/h   181 non-null    object \n",
            " 4   efficiency Wh/km  181 non-null    object \n",
            " 5   fast charge km/h  181 non-null    object \n",
            " 6   price uk          136 non-null    object \n",
            " 7   price ger         168 non-null    object \n",
            " 8   price nl          156 non-null    object \n",
            "dtypes: float64(1), object(8)\n",
            "memory usage: 14.1+ KB\n"
          ]
        }
      ]
    },
    {
      "cell_type": "code",
      "metadata": {
        "colab": {
          "base_uri": "https://localhost:8080/",
          "height": 295
        },
        "id": "hXQUJBvA1dgD",
        "outputId": "6e8ffd0c-cc7c-4af8-b36c-9b5f55310f55"
      },
      "source": [
        "data.describe()"
      ],
      "execution_count": 9,
      "outputs": [
        {
          "output_type": "execute_result",
          "data": {
            "text/html": [
              "<div>\n",
              "<style scoped>\n",
              "    .dataframe tbody tr th:only-of-type {\n",
              "        vertical-align: middle;\n",
              "    }\n",
              "\n",
              "    .dataframe tbody tr th {\n",
              "        vertical-align: top;\n",
              "    }\n",
              "\n",
              "    .dataframe thead th {\n",
              "        text-align: right;\n",
              "    }\n",
              "</style>\n",
              "<table border=\"1\" class=\"dataframe\">\n",
              "  <thead>\n",
              "    <tr style=\"text-align: right;\">\n",
              "      <th></th>\n",
              "      <th>battery kWh</th>\n",
              "    </tr>\n",
              "  </thead>\n",
              "  <tbody>\n",
              "    <tr>\n",
              "      <th>count</th>\n",
              "      <td>181.000000</td>\n",
              "    </tr>\n",
              "    <tr>\n",
              "      <th>mean</th>\n",
              "      <td>65.220994</td>\n",
              "    </tr>\n",
              "    <tr>\n",
              "      <th>std</th>\n",
              "      <td>24.861999</td>\n",
              "    </tr>\n",
              "    <tr>\n",
              "      <th>min</th>\n",
              "      <td>16.700000</td>\n",
              "    </tr>\n",
              "    <tr>\n",
              "      <th>25%</th>\n",
              "      <td>45.000000</td>\n",
              "    </tr>\n",
              "    <tr>\n",
              "      <th>50%</th>\n",
              "      <td>65.000000</td>\n",
              "    </tr>\n",
              "    <tr>\n",
              "      <th>75%</th>\n",
              "      <td>77.400000</td>\n",
              "    </tr>\n",
              "    <tr>\n",
              "      <th>max</th>\n",
              "      <td>200.000000</td>\n",
              "    </tr>\n",
              "  </tbody>\n",
              "</table>\n",
              "</div>"
            ],
            "text/plain": [
              "       battery kWh\n",
              "count   181.000000\n",
              "mean     65.220994\n",
              "std      24.861999\n",
              "min      16.700000\n",
              "25%      45.000000\n",
              "50%      65.000000\n",
              "75%      77.400000\n",
              "max     200.000000"
            ]
          },
          "metadata": {},
          "execution_count": 9
        }
      ]
    },
    {
      "cell_type": "code",
      "metadata": {
        "colab": {
          "base_uri": "https://localhost:8080/",
          "height": 172
        },
        "id": "mGcywm8R1vlR",
        "outputId": "b1f91841-e586-4823-f45e-cfa80dabf774"
      },
      "source": [
        "data.describe(include='object')"
      ],
      "execution_count": 10,
      "outputs": [
        {
          "output_type": "execute_result",
          "data": {
            "text/html": [
              "<div>\n",
              "<style scoped>\n",
              "    .dataframe tbody tr th:only-of-type {\n",
              "        vertical-align: middle;\n",
              "    }\n",
              "\n",
              "    .dataframe tbody tr th {\n",
              "        vertical-align: top;\n",
              "    }\n",
              "\n",
              "    .dataframe thead th {\n",
              "        text-align: right;\n",
              "    }\n",
              "</style>\n",
              "<table border=\"1\" class=\"dataframe\">\n",
              "  <thead>\n",
              "    <tr style=\"text-align: right;\">\n",
              "      <th></th>\n",
              "      <th>model</th>\n",
              "      <th>acceleration sec</th>\n",
              "      <th>top speeds km/h</th>\n",
              "      <th>efficiency Wh/km</th>\n",
              "      <th>fast charge km/h</th>\n",
              "      <th>price uk</th>\n",
              "      <th>price ger</th>\n",
              "      <th>price nl</th>\n",
              "    </tr>\n",
              "  </thead>\n",
              "  <tbody>\n",
              "    <tr>\n",
              "      <th>count</th>\n",
              "      <td>181</td>\n",
              "      <td>181</td>\n",
              "      <td>181</td>\n",
              "      <td>181</td>\n",
              "      <td>181</td>\n",
              "      <td>136</td>\n",
              "      <td>168</td>\n",
              "      <td>156</td>\n",
              "    </tr>\n",
              "    <tr>\n",
              "      <th>unique</th>\n",
              "      <td>175</td>\n",
              "      <td>77</td>\n",
              "      <td>35</td>\n",
              "      <td>81</td>\n",
              "      <td>71</td>\n",
              "      <td>128</td>\n",
              "      <td>153</td>\n",
              "      <td>144</td>\n",
              "    </tr>\n",
              "    <tr>\n",
              "      <th>top</th>\n",
              "      <td>e-tron Sportback 55 quattro</td>\n",
              "      <td>12.1 sec</td>\n",
              "      <td>160 km/h</td>\n",
              "      <td>168 Wh/km</td>\n",
              "      <td>290 km/h</td>\n",
              "      <td>£79,900</td>\n",
              "      <td>* €50,000</td>\n",
              "      <td>€33,990</td>\n",
              "    </tr>\n",
              "    <tr>\n",
              "      <th>freq</th>\n",
              "      <td>2</td>\n",
              "      <td>11</td>\n",
              "      <td>34</td>\n",
              "      <td>8</td>\n",
              "      <td>8</td>\n",
              "      <td>2</td>\n",
              "      <td>4</td>\n",
              "      <td>3</td>\n",
              "    </tr>\n",
              "  </tbody>\n",
              "</table>\n",
              "</div>"
            ],
            "text/plain": [
              "                              model acceleration sec  ...  price ger price nl\n",
              "count                           181              181  ...        168      156\n",
              "unique                          175               77  ...        153      144\n",
              "top     e-tron Sportback 55 quattro         12.1 sec  ...  * €50,000  €33,990\n",
              "freq                              2               11  ...          4        3\n",
              "\n",
              "[4 rows x 8 columns]"
            ]
          },
          "metadata": {},
          "execution_count": 10
        }
      ]
    },
    {
      "cell_type": "code",
      "metadata": {
        "id": "2ndRYdCo1zrN"
      },
      "source": [
        "data['price uk'] = data['price uk'].replace({'\\* ':'', '£':'', ',':''}, regex=True).astype(float)\n",
        "data['price ger'] = data['price ger'].replace({'\\* ':'', '€':'', ',':''}, regex=True).astype(float)\n",
        "data['price nl'] = data['price nl'].replace({'\\* ':'', '€':'', ',':''}, regex=True).astype(float)"
      ],
      "execution_count": 11,
      "outputs": []
    },
    {
      "cell_type": "code",
      "metadata": {
        "colab": {
          "base_uri": "https://localhost:8080/",
          "height": 447
        },
        "id": "1KoSi7yX4sF7",
        "outputId": "2ea2ae09-f18f-45a6-8701-2fbc8c4656c7"
      },
      "source": [
        "data[['price uk']]"
      ],
      "execution_count": 12,
      "outputs": [
        {
          "output_type": "execute_result",
          "data": {
            "text/html": [
              "<div>\n",
              "<style scoped>\n",
              "    .dataframe tbody tr th:only-of-type {\n",
              "        vertical-align: middle;\n",
              "    }\n",
              "\n",
              "    .dataframe tbody tr th {\n",
              "        vertical-align: top;\n",
              "    }\n",
              "\n",
              "    .dataframe thead th {\n",
              "        text-align: right;\n",
              "    }\n",
              "</style>\n",
              "<table border=\"1\" class=\"dataframe\">\n",
              "  <thead>\n",
              "    <tr style=\"text-align: right;\">\n",
              "      <th></th>\n",
              "      <th>price uk</th>\n",
              "    </tr>\n",
              "    <tr>\n",
              "      <th>vehicle name</th>\n",
              "      <th></th>\n",
              "    </tr>\n",
              "  </thead>\n",
              "  <tbody>\n",
              "    <tr>\n",
              "      <th>Mercedes</th>\n",
              "      <td>115000.0</td>\n",
              "    </tr>\n",
              "    <tr>\n",
              "      <th>Tesla</th>\n",
              "      <td>40990.0</td>\n",
              "    </tr>\n",
              "    <tr>\n",
              "      <th>Tesla</th>\n",
              "      <td>54000.0</td>\n",
              "    </tr>\n",
              "    <tr>\n",
              "      <th>Kia</th>\n",
              "      <td>58295.0</td>\n",
              "    </tr>\n",
              "    <tr>\n",
              "      <th>Tesla</th>\n",
              "      <td>48490.0</td>\n",
              "    </tr>\n",
              "    <tr>\n",
              "      <th>...</th>\n",
              "      <td>...</td>\n",
              "    </tr>\n",
              "    <tr>\n",
              "      <th>Toyota</th>\n",
              "      <td>NaN</td>\n",
              "    </tr>\n",
              "    <tr>\n",
              "      <th>Citroen</th>\n",
              "      <td>NaN</td>\n",
              "    </tr>\n",
              "    <tr>\n",
              "      <th>Citroen</th>\n",
              "      <td>NaN</td>\n",
              "    </tr>\n",
              "    <tr>\n",
              "      <th>Peugeot</th>\n",
              "      <td>NaN</td>\n",
              "    </tr>\n",
              "    <tr>\n",
              "      <th>Opel</th>\n",
              "      <td>NaN</td>\n",
              "    </tr>\n",
              "  </tbody>\n",
              "</table>\n",
              "<p>181 rows × 1 columns</p>\n",
              "</div>"
            ],
            "text/plain": [
              "              price uk\n",
              "vehicle name          \n",
              "Mercedes      115000.0\n",
              "Tesla          40990.0\n",
              "Tesla          54000.0\n",
              "Kia            58295.0\n",
              "Tesla          48490.0\n",
              "...                ...\n",
              "Toyota             NaN\n",
              "Citroen            NaN\n",
              "Citroen            NaN\n",
              "Peugeot            NaN\n",
              "Opel               NaN\n",
              "\n",
              "[181 rows x 1 columns]"
            ]
          },
          "metadata": {},
          "execution_count": 12
        }
      ]
    },
    {
      "cell_type": "code",
      "metadata": {
        "id": "ocsYcZbX4vRE"
      },
      "source": [
        "# Cleaning the data by removing strings from each values and converting them to float\n",
        "data['top speeds km/h'] = data['top speeds km/h'].replace({' km/h':''}, regex=True).astype(float)\n",
        "data['fast charge km/h'] = data['fast charge km/h'].replace({'km/h':'', '-':'0'}, regex=True).astype(float)\n",
        "data['efficiency Wh/km'] = data['efficiency Wh/km'].replace({' Wh/km':''}, regex=True).astype(float)\n",
        "data['acceleration sec'] = data['acceleration sec'].replace({' sec':''}, regex=True).astype(float)"
      ],
      "execution_count": 13,
      "outputs": []
    },
    {
      "cell_type": "code",
      "metadata": {
        "colab": {
          "base_uri": "https://localhost:8080/",
          "height": 388
        },
        "id": "T33MNTMfqN3Y",
        "outputId": "2390dc67-1fed-4631-e935-f1e70011846e"
      },
      "source": [
        "data.sample(10)"
      ],
      "execution_count": 14,
      "outputs": [
        {
          "output_type": "execute_result",
          "data": {
            "text/html": [
              "<div>\n",
              "<style scoped>\n",
              "    .dataframe tbody tr th:only-of-type {\n",
              "        vertical-align: middle;\n",
              "    }\n",
              "\n",
              "    .dataframe tbody tr th {\n",
              "        vertical-align: top;\n",
              "    }\n",
              "\n",
              "    .dataframe thead th {\n",
              "        text-align: right;\n",
              "    }\n",
              "</style>\n",
              "<table border=\"1\" class=\"dataframe\">\n",
              "  <thead>\n",
              "    <tr style=\"text-align: right;\">\n",
              "      <th></th>\n",
              "      <th>model</th>\n",
              "      <th>battery kWh</th>\n",
              "      <th>acceleration sec</th>\n",
              "      <th>top speeds km/h</th>\n",
              "      <th>efficiency Wh/km</th>\n",
              "      <th>fast charge km/h</th>\n",
              "      <th>price uk</th>\n",
              "      <th>price ger</th>\n",
              "      <th>price nl</th>\n",
              "    </tr>\n",
              "    <tr>\n",
              "      <th>vehicle name</th>\n",
              "      <th></th>\n",
              "      <th></th>\n",
              "      <th></th>\n",
              "      <th></th>\n",
              "      <th></th>\n",
              "      <th></th>\n",
              "      <th></th>\n",
              "      <th></th>\n",
              "      <th></th>\n",
              "    </tr>\n",
              "  </thead>\n",
              "  <tbody>\n",
              "    <tr>\n",
              "      <th>Lightyear</th>\n",
              "      <td>One</td>\n",
              "      <td>60.0</td>\n",
              "      <td>10.0</td>\n",
              "      <td>150.0</td>\n",
              "      <td>104.0</td>\n",
              "      <td>540.0</td>\n",
              "      <td>NaN</td>\n",
              "      <td>149000.0</td>\n",
              "      <td>149990.0</td>\n",
              "    </tr>\n",
              "    <tr>\n",
              "      <th>Peugeot</th>\n",
              "      <td>e-Traveller Long 50 kWh</td>\n",
              "      <td>45.0</td>\n",
              "      <td>13.1</td>\n",
              "      <td>130.0</td>\n",
              "      <td>243.0</td>\n",
              "      <td>250.0</td>\n",
              "      <td>49905.0</td>\n",
              "      <td>56690.0</td>\n",
              "      <td>NaN</td>\n",
              "    </tr>\n",
              "    <tr>\n",
              "      <th>Volkswagen</th>\n",
              "      <td>ID.4 Pro Performance</td>\n",
              "      <td>77.0</td>\n",
              "      <td>8.5</td>\n",
              "      <td>160.0</td>\n",
              "      <td>188.0</td>\n",
              "      <td>500.0</td>\n",
              "      <td>41570.0</td>\n",
              "      <td>44450.0</td>\n",
              "      <td>47790.0</td>\n",
              "    </tr>\n",
              "    <tr>\n",
              "      <th>Porsche</th>\n",
              "      <td>Taycan Turbo S Cross Turismo</td>\n",
              "      <td>83.7</td>\n",
              "      <td>2.9</td>\n",
              "      <td>250.0</td>\n",
              "      <td>220.0</td>\n",
              "      <td>790.0</td>\n",
              "      <td>139910.0</td>\n",
              "      <td>187746.0</td>\n",
              "      <td>193200.0</td>\n",
              "    </tr>\n",
              "    <tr>\n",
              "      <th>Fiat</th>\n",
              "      <td>500e Hatchback 24 kWh</td>\n",
              "      <td>23.8</td>\n",
              "      <td>9.5</td>\n",
              "      <td>135.0</td>\n",
              "      <td>144.0</td>\n",
              "      <td>260.0</td>\n",
              "      <td>20495.0</td>\n",
              "      <td>23560.0</td>\n",
              "      <td>24900.0</td>\n",
              "    </tr>\n",
              "    <tr>\n",
              "      <th>Honda</th>\n",
              "      <td>e Advance</td>\n",
              "      <td>28.5</td>\n",
              "      <td>8.3</td>\n",
              "      <td>145.0</td>\n",
              "      <td>168.0</td>\n",
              "      <td>190.0</td>\n",
              "      <td>30160.0</td>\n",
              "      <td>38000.0</td>\n",
              "      <td>39080.0</td>\n",
              "    </tr>\n",
              "    <tr>\n",
              "      <th>Nissan</th>\n",
              "      <td>Leaf</td>\n",
              "      <td>37.0</td>\n",
              "      <td>7.9</td>\n",
              "      <td>144.0</td>\n",
              "      <td>164.0</td>\n",
              "      <td>230.0</td>\n",
              "      <td>25995.0</td>\n",
              "      <td>29990.0</td>\n",
              "      <td>34990.0</td>\n",
              "    </tr>\n",
              "    <tr>\n",
              "      <th>Hyundai</th>\n",
              "      <td>IONIQ Electric</td>\n",
              "      <td>38.3</td>\n",
              "      <td>9.7</td>\n",
              "      <td>165.0</td>\n",
              "      <td>153.0</td>\n",
              "      <td>220.0</td>\n",
              "      <td>30550.0</td>\n",
              "      <td>35350.0</td>\n",
              "      <td>37015.0</td>\n",
              "    </tr>\n",
              "    <tr>\n",
              "      <th>Peugeot</th>\n",
              "      <td>e-Traveller Compact 50 kWh</td>\n",
              "      <td>45.0</td>\n",
              "      <td>12.1</td>\n",
              "      <td>130.0</td>\n",
              "      <td>243.0</td>\n",
              "      <td>250.0</td>\n",
              "      <td>NaN</td>\n",
              "      <td>50880.0</td>\n",
              "      <td>NaN</td>\n",
              "    </tr>\n",
              "    <tr>\n",
              "      <th>MG</th>\n",
              "      <td>MG5 EV</td>\n",
              "      <td>48.8</td>\n",
              "      <td>7.7</td>\n",
              "      <td>185.0</td>\n",
              "      <td>165.0</td>\n",
              "      <td>340.0</td>\n",
              "      <td>25095.0</td>\n",
              "      <td>NaN</td>\n",
              "      <td>NaN</td>\n",
              "    </tr>\n",
              "  </tbody>\n",
              "</table>\n",
              "</div>"
            ],
            "text/plain": [
              "                                     model  battery kWh  ...  price ger  price nl\n",
              "vehicle name                                             ...                     \n",
              "Lightyear                             One          60.0  ...   149000.0  149990.0\n",
              "Peugeot            e-Traveller Long 50 kWh         45.0  ...    56690.0       NaN\n",
              "Volkswagen            ID.4 Pro Performance         77.0  ...    44450.0   47790.0\n",
              "Porsche       Taycan Turbo S Cross Turismo         83.7  ...   187746.0  193200.0\n",
              "Fiat                 500e Hatchback 24 kWh         23.8  ...    23560.0   24900.0\n",
              "Honda                            e Advance         28.5  ...    38000.0   39080.0\n",
              "Nissan                               Leaf          37.0  ...    29990.0   34990.0\n",
              "Hyundai                     IONIQ Electric         38.3  ...    35350.0   37015.0\n",
              "Peugeot         e-Traveller Compact 50 kWh         45.0  ...    50880.0       NaN\n",
              "MG                                  MG5 EV         48.8  ...        NaN       NaN\n",
              "\n",
              "[10 rows x 9 columns]"
            ]
          },
          "metadata": {},
          "execution_count": 14
        }
      ]
    },
    {
      "cell_type": "code",
      "metadata": {
        "colab": {
          "base_uri": "https://localhost:8080/"
        },
        "id": "kUCFoiZduzqj",
        "outputId": "a22b630b-84d2-49c7-f01c-8afbe52c529c"
      },
      "source": [
        "data.info()"
      ],
      "execution_count": 15,
      "outputs": [
        {
          "output_type": "stream",
          "name": "stdout",
          "text": [
            "<class 'pandas.core.frame.DataFrame'>\n",
            "Index: 181 entries, Mercedes to Opel\n",
            "Data columns (total 9 columns):\n",
            " #   Column            Non-Null Count  Dtype  \n",
            "---  ------            --------------  -----  \n",
            " 0   model             181 non-null    object \n",
            " 1   battery kWh       181 non-null    float64\n",
            " 2   acceleration sec  181 non-null    float64\n",
            " 3   top speeds km/h   181 non-null    float64\n",
            " 4   efficiency Wh/km  181 non-null    float64\n",
            " 5   fast charge km/h  181 non-null    float64\n",
            " 6   price uk          136 non-null    float64\n",
            " 7   price ger         168 non-null    float64\n",
            " 8   price nl          156 non-null    float64\n",
            "dtypes: float64(8), object(1)\n",
            "memory usage: 14.1+ KB\n"
          ]
        }
      ]
    },
    {
      "cell_type": "code",
      "metadata": {
        "colab": {
          "base_uri": "https://localhost:8080/",
          "height": 611
        },
        "id": "6qfk50kau30T",
        "outputId": "32b1c47d-4524-4152-8c1b-a11c88a0f984"
      },
      "source": [
        "plt.figure(figsize=(15,10))\n",
        "#  visualization that highlight where the missing values occur in the dataset\n",
        "sns.heatmap(data.drop('model', axis=1), cbar=False)"
      ],
      "execution_count": 16,
      "outputs": [
        {
          "output_type": "execute_result",
          "data": {
            "text/plain": [
              "<matplotlib.axes._subplots.AxesSubplot at 0x7f4db299a190>"
            ]
          },
          "metadata": {},
          "execution_count": 16
        },
        {
          "output_type": "display_data",
          "data": {
            "image/png": "[encoded data removed]",
            "text/plain": [
              "<Figure size 1080x720 with 1 Axes>"
            ]
          },
          "metadata": {
            "needs_background": "light"
          }
        }
      ]
    },
    {
      "cell_type": "code",
      "metadata": {
        "id": "ebe2VNrZvS6C"
      },
      "source": [
        "# Converting the original data index to a feature\n",
        "data['vehicle name'] = data.index"
      ],
      "execution_count": 17,
      "outputs": []
    },
    {
      "cell_type": "code",
      "metadata": {
        "colab": {
          "base_uri": "https://localhost:8080/",
          "height": 234
        },
        "id": "4o46NSIIxG7_",
        "outputId": "9da8104b-2956-4006-ab36-03ff67a90f1b"
      },
      "source": [
        "data.head()"
      ],
      "execution_count": 18,
      "outputs": [
        {
          "output_type": "execute_result",
          "data": {
            "text/html": [
              "<div>\n",
              "<style scoped>\n",
              "    .dataframe tbody tr th:only-of-type {\n",
              "        vertical-align: middle;\n",
              "    }\n",
              "\n",
              "    .dataframe tbody tr th {\n",
              "        vertical-align: top;\n",
              "    }\n",
              "\n",
              "    .dataframe thead th {\n",
              "        text-align: right;\n",
              "    }\n",
              "</style>\n",
              "<table border=\"1\" class=\"dataframe\">\n",
              "  <thead>\n",
              "    <tr style=\"text-align: right;\">\n",
              "      <th></th>\n",
              "      <th>model</th>\n",
              "      <th>battery kWh</th>\n",
              "      <th>acceleration sec</th>\n",
              "      <th>top speeds km/h</th>\n",
              "      <th>efficiency Wh/km</th>\n",
              "      <th>fast charge km/h</th>\n",
              "      <th>price uk</th>\n",
              "      <th>price ger</th>\n",
              "      <th>price nl</th>\n",
              "      <th>vehicle name</th>\n",
              "    </tr>\n",
              "    <tr>\n",
              "      <th>vehicle name</th>\n",
              "      <th></th>\n",
              "      <th></th>\n",
              "      <th></th>\n",
              "      <th></th>\n",
              "      <th></th>\n",
              "      <th></th>\n",
              "      <th></th>\n",
              "      <th></th>\n",
              "      <th></th>\n",
              "      <th></th>\n",
              "    </tr>\n",
              "  </thead>\n",
              "  <tbody>\n",
              "    <tr>\n",
              "      <th>Mercedes</th>\n",
              "      <td>EQS 580 4MATIC</td>\n",
              "      <td>107.8</td>\n",
              "      <td>4.3</td>\n",
              "      <td>210.0</td>\n",
              "      <td>177.0</td>\n",
              "      <td>800.0</td>\n",
              "      <td>115000.0</td>\n",
              "      <td>135529.0</td>\n",
              "      <td>140000.0</td>\n",
              "      <td>Mercedes</td>\n",
              "    </tr>\n",
              "    <tr>\n",
              "      <th>Tesla</th>\n",
              "      <td>Model 3 Standard Range Plus LFP</td>\n",
              "      <td>52.5</td>\n",
              "      <td>5.6</td>\n",
              "      <td>225.0</td>\n",
              "      <td>150.0</td>\n",
              "      <td>560.0</td>\n",
              "      <td>40990.0</td>\n",
              "      <td>43560.0</td>\n",
              "      <td>49990.0</td>\n",
              "      <td>Tesla</td>\n",
              "    </tr>\n",
              "    <tr>\n",
              "      <th>Tesla</th>\n",
              "      <td>Model Y Long Range Dual Motor</td>\n",
              "      <td>70.0</td>\n",
              "      <td>5.0</td>\n",
              "      <td>217.0</td>\n",
              "      <td>171.0</td>\n",
              "      <td>520.0</td>\n",
              "      <td>54000.0</td>\n",
              "      <td>59965.0</td>\n",
              "      <td>65010.0</td>\n",
              "      <td>Tesla</td>\n",
              "    </tr>\n",
              "    <tr>\n",
              "      <th>Kia</th>\n",
              "      <td>EV6 GT</td>\n",
              "      <td>77.4</td>\n",
              "      <td>3.5</td>\n",
              "      <td>260.0</td>\n",
              "      <td>196.0</td>\n",
              "      <td>920.0</td>\n",
              "      <td>58295.0</td>\n",
              "      <td>65990.0</td>\n",
              "      <td>63595.0</td>\n",
              "      <td>Kia</td>\n",
              "    </tr>\n",
              "    <tr>\n",
              "      <th>Tesla</th>\n",
              "      <td>Model 3 Long Range Dual Motor</td>\n",
              "      <td>70.0</td>\n",
              "      <td>4.4</td>\n",
              "      <td>233.0</td>\n",
              "      <td>154.0</td>\n",
              "      <td>570.0</td>\n",
              "      <td>48490.0</td>\n",
              "      <td>NaN</td>\n",
              "      <td>NaN</td>\n",
              "      <td>Tesla</td>\n",
              "    </tr>\n",
              "  </tbody>\n",
              "</table>\n",
              "</div>"
            ],
            "text/plain": [
              "                                        model  ...  vehicle name\n",
              "vehicle name                                   ...              \n",
              "Mercedes                       EQS 580 4MATIC  ...      Mercedes\n",
              "Tesla         Model 3 Standard Range Plus LFP  ...         Tesla\n",
              "Tesla           Model Y Long Range Dual Motor  ...         Tesla\n",
              "Kia                                    EV6 GT  ...           Kia\n",
              "Tesla           Model 3 Long Range Dual Motor  ...         Tesla\n",
              "\n",
              "[5 rows x 10 columns]"
            ]
          },
          "metadata": {},
          "execution_count": 18
        }
      ]
    },
    {
      "cell_type": "code",
      "metadata": {
        "id": "-lSwSkGcxTeN"
      },
      "source": [
        "# Assigning numerical index to the dataset\n",
        "ans = []\n",
        "for i in range(len(data)):\n",
        "  ans.append(i)\n",
        "\n",
        "data.index = ans"
      ],
      "execution_count": 19,
      "outputs": []
    },
    {
      "cell_type": "code",
      "metadata": {
        "colab": {
          "base_uri": "https://localhost:8080/",
          "height": 357
        },
        "id": "qh3-Hagnxh1K",
        "outputId": "2684503a-6f0b-48a7-b38a-832f2737b654"
      },
      "source": [
        "data.head(10)"
      ],
      "execution_count": 20,
      "outputs": [
        {
          "output_type": "execute_result",
          "data": {
            "text/html": [
              "<div>\n",
              "<style scoped>\n",
              "    .dataframe tbody tr th:only-of-type {\n",
              "        vertical-align: middle;\n",
              "    }\n",
              "\n",
              "    .dataframe tbody tr th {\n",
              "        vertical-align: top;\n",
              "    }\n",
              "\n",
              "    .dataframe thead th {\n",
              "        text-align: right;\n",
              "    }\n",
              "</style>\n",
              "<table border=\"1\" class=\"dataframe\">\n",
              "  <thead>\n",
              "    <tr style=\"text-align: right;\">\n",
              "      <th></th>\n",
              "      <th>model</th>\n",
              "      <th>battery kWh</th>\n",
              "      <th>acceleration sec</th>\n",
              "      <th>top speeds km/h</th>\n",
              "      <th>efficiency Wh/km</th>\n",
              "      <th>fast charge km/h</th>\n",
              "      <th>price uk</th>\n",
              "      <th>price ger</th>\n",
              "      <th>price nl</th>\n",
              "      <th>vehicle name</th>\n",
              "    </tr>\n",
              "  </thead>\n",
              "  <tbody>\n",
              "    <tr>\n",
              "      <th>0</th>\n",
              "      <td>EQS 580 4MATIC</td>\n",
              "      <td>107.8</td>\n",
              "      <td>4.3</td>\n",
              "      <td>210.0</td>\n",
              "      <td>177.0</td>\n",
              "      <td>800.0</td>\n",
              "      <td>115000.0</td>\n",
              "      <td>135529.0</td>\n",
              "      <td>140000.0</td>\n",
              "      <td>Mercedes</td>\n",
              "    </tr>\n",
              "    <tr>\n",
              "      <th>1</th>\n",
              "      <td>Model 3 Standard Range Plus LFP</td>\n",
              "      <td>52.5</td>\n",
              "      <td>5.6</td>\n",
              "      <td>225.0</td>\n",
              "      <td>150.0</td>\n",
              "      <td>560.0</td>\n",
              "      <td>40990.0</td>\n",
              "      <td>43560.0</td>\n",
              "      <td>49990.0</td>\n",
              "      <td>Tesla</td>\n",
              "    </tr>\n",
              "    <tr>\n",
              "      <th>2</th>\n",
              "      <td>Model Y Long Range Dual Motor</td>\n",
              "      <td>70.0</td>\n",
              "      <td>5.0</td>\n",
              "      <td>217.0</td>\n",
              "      <td>171.0</td>\n",
              "      <td>520.0</td>\n",
              "      <td>54000.0</td>\n",
              "      <td>59965.0</td>\n",
              "      <td>65010.0</td>\n",
              "      <td>Tesla</td>\n",
              "    </tr>\n",
              "    <tr>\n",
              "      <th>3</th>\n",
              "      <td>EV6 GT</td>\n",
              "      <td>77.4</td>\n",
              "      <td>3.5</td>\n",
              "      <td>260.0</td>\n",
              "      <td>196.0</td>\n",
              "      <td>920.0</td>\n",
              "      <td>58295.0</td>\n",
              "      <td>65990.0</td>\n",
              "      <td>63595.0</td>\n",
              "      <td>Kia</td>\n",
              "    </tr>\n",
              "    <tr>\n",
              "      <th>4</th>\n",
              "      <td>Model 3 Long Range Dual Motor</td>\n",
              "      <td>70.0</td>\n",
              "      <td>4.4</td>\n",
              "      <td>233.0</td>\n",
              "      <td>154.0</td>\n",
              "      <td>570.0</td>\n",
              "      <td>48490.0</td>\n",
              "      <td>NaN</td>\n",
              "      <td>NaN</td>\n",
              "      <td>Tesla</td>\n",
              "    </tr>\n",
              "    <tr>\n",
              "      <th>5</th>\n",
              "      <td>Model 3 Standard Range Plus</td>\n",
              "      <td>51.0</td>\n",
              "      <td>5.6</td>\n",
              "      <td>225.0</td>\n",
              "      <td>146.0</td>\n",
              "      <td>700.0</td>\n",
              "      <td>40990.0</td>\n",
              "      <td>43560.0</td>\n",
              "      <td>49990.0</td>\n",
              "      <td>Tesla</td>\n",
              "    </tr>\n",
              "    <tr>\n",
              "      <th>6</th>\n",
              "      <td>Enyaq iV 80</td>\n",
              "      <td>77.0</td>\n",
              "      <td>8.6</td>\n",
              "      <td>160.0</td>\n",
              "      <td>183.0</td>\n",
              "      <td>510.0</td>\n",
              "      <td>39365.0</td>\n",
              "      <td>43950.0</td>\n",
              "      <td>47780.0</td>\n",
              "      <td>Skoda</td>\n",
              "    </tr>\n",
              "    <tr>\n",
              "      <th>7</th>\n",
              "      <td>Spring Electric</td>\n",
              "      <td>26.8</td>\n",
              "      <td>15.0</td>\n",
              "      <td>125.0</td>\n",
              "      <td>158.0</td>\n",
              "      <td>120.0</td>\n",
              "      <td>NaN</td>\n",
              "      <td>20490.0</td>\n",
              "      <td>17890.0</td>\n",
              "      <td>Dacia</td>\n",
              "    </tr>\n",
              "    <tr>\n",
              "      <th>8</th>\n",
              "      <td>Leaf</td>\n",
              "      <td>37.0</td>\n",
              "      <td>7.9</td>\n",
              "      <td>144.0</td>\n",
              "      <td>164.0</td>\n",
              "      <td>230.0</td>\n",
              "      <td>25995.0</td>\n",
              "      <td>29990.0</td>\n",
              "      <td>34990.0</td>\n",
              "      <td>Nissan</td>\n",
              "    </tr>\n",
              "    <tr>\n",
              "      <th>9</th>\n",
              "      <td>Kona Electric 64 kWh</td>\n",
              "      <td>64.0</td>\n",
              "      <td>7.9</td>\n",
              "      <td>167.0</td>\n",
              "      <td>162.0</td>\n",
              "      <td>370.0</td>\n",
              "      <td>NaN</td>\n",
              "      <td>41850.0</td>\n",
              "      <td>41595.0</td>\n",
              "      <td>Hyundai</td>\n",
              "    </tr>\n",
              "  </tbody>\n",
              "</table>\n",
              "</div>"
            ],
            "text/plain": [
              "                             model  battery kWh  ...  price nl  vehicle name\n",
              "0                   EQS 580 4MATIC        107.8  ...  140000.0      Mercedes\n",
              "1  Model 3 Standard Range Plus LFP         52.5  ...   49990.0         Tesla\n",
              "2    Model Y Long Range Dual Motor         70.0  ...   65010.0         Tesla\n",
              "3                           EV6 GT         77.4  ...   63595.0           Kia\n",
              "4    Model 3 Long Range Dual Motor         70.0  ...       NaN         Tesla\n",
              "5      Model 3 Standard Range Plus         51.0  ...   49990.0         Tesla\n",
              "6                      Enyaq iV 80         77.0  ...   47780.0         Skoda\n",
              "7                  Spring Electric         26.8  ...   17890.0         Dacia\n",
              "8                            Leaf          37.0  ...   34990.0        Nissan\n",
              "9             Kona Electric 64 kWh         64.0  ...   41595.0       Hyundai\n",
              "\n",
              "[10 rows x 10 columns]"
            ]
          },
          "metadata": {},
          "execution_count": 20
        }
      ]
    },
    {
      "cell_type": "code",
      "metadata": {
        "id": "h-BJee9nyCbf"
      },
      "source": [
        ""
      ],
      "execution_count": 20,
      "outputs": []
    },
    {
      "cell_type": "code",
      "metadata": {
        "colab": {
          "base_uri": "https://localhost:8080/",
          "height": 1000
        },
        "id": "u_h2z_Czy7Cp",
        "outputId": "d0c824fb-cf02-4f85-b514-bb6bfcf5c45e"
      },
      "source": [
        "# Checking for the value count of each unique vehicle name\n",
        "pd.DataFrame(data['vehicle name'].value_counts())"
      ],
      "execution_count": 21,
      "outputs": [
        {
          "output_type": "execute_result",
          "data": {
            "text/html": [
              "<div>\n",
              "<style scoped>\n",
              "    .dataframe tbody tr th:only-of-type {\n",
              "        vertical-align: middle;\n",
              "    }\n",
              "\n",
              "    .dataframe tbody tr th {\n",
              "        vertical-align: top;\n",
              "    }\n",
              "\n",
              "    .dataframe thead th {\n",
              "        text-align: right;\n",
              "    }\n",
              "</style>\n",
              "<table border=\"1\" class=\"dataframe\">\n",
              "  <thead>\n",
              "    <tr style=\"text-align: right;\">\n",
              "      <th></th>\n",
              "      <th>vehicle name</th>\n",
              "    </tr>\n",
              "  </thead>\n",
              "  <tbody>\n",
              "    <tr>\n",
              "      <th>Audi</th>\n",
              "      <td>17</td>\n",
              "    </tr>\n",
              "    <tr>\n",
              "      <th>Tesla</th>\n",
              "      <td>15</td>\n",
              "    </tr>\n",
              "    <tr>\n",
              "      <th>Volkswagen</th>\n",
              "      <td>11</td>\n",
              "    </tr>\n",
              "    <tr>\n",
              "      <th>Porsche</th>\n",
              "      <td>10</td>\n",
              "    </tr>\n",
              "    <tr>\n",
              "      <th>Hyundai</th>\n",
              "      <td>10</td>\n",
              "    </tr>\n",
              "    <tr>\n",
              "      <th>Mercedes</th>\n",
              "      <td>9</td>\n",
              "    </tr>\n",
              "    <tr>\n",
              "      <th>Peugeot</th>\n",
              "      <td>9</td>\n",
              "    </tr>\n",
              "    <tr>\n",
              "      <th>Kia</th>\n",
              "      <td>9</td>\n",
              "    </tr>\n",
              "    <tr>\n",
              "      <th>Opel</th>\n",
              "      <td>8</td>\n",
              "    </tr>\n",
              "    <tr>\n",
              "      <th>Nissan</th>\n",
              "      <td>8</td>\n",
              "    </tr>\n",
              "    <tr>\n",
              "      <th>BMW</th>\n",
              "      <td>7</td>\n",
              "    </tr>\n",
              "    <tr>\n",
              "      <th>Renault</th>\n",
              "      <td>6</td>\n",
              "    </tr>\n",
              "    <tr>\n",
              "      <th>MG</th>\n",
              "      <td>6</td>\n",
              "    </tr>\n",
              "    <tr>\n",
              "      <th>Citroen</th>\n",
              "      <td>6</td>\n",
              "    </tr>\n",
              "    <tr>\n",
              "      <th>Skoda</th>\n",
              "      <td>5</td>\n",
              "    </tr>\n",
              "    <tr>\n",
              "      <th>Ford</th>\n",
              "      <td>5</td>\n",
              "    </tr>\n",
              "    <tr>\n",
              "      <th>Toyota</th>\n",
              "      <td>4</td>\n",
              "    </tr>\n",
              "    <tr>\n",
              "      <th>CUPRA</th>\n",
              "      <td>4</td>\n",
              "    </tr>\n",
              "    <tr>\n",
              "      <th>Fiat</th>\n",
              "      <td>4</td>\n",
              "    </tr>\n",
              "    <tr>\n",
              "      <th>Smart</th>\n",
              "      <td>3</td>\n",
              "    </tr>\n",
              "    <tr>\n",
              "      <th>Lucid</th>\n",
              "      <td>3</td>\n",
              "    </tr>\n",
              "    <tr>\n",
              "      <th>Polestar</th>\n",
              "      <td>3</td>\n",
              "    </tr>\n",
              "    <tr>\n",
              "      <th>Byton</th>\n",
              "      <td>3</td>\n",
              "    </tr>\n",
              "    <tr>\n",
              "      <th>Honda</th>\n",
              "      <td>2</td>\n",
              "    </tr>\n",
              "    <tr>\n",
              "      <th>Volvo</th>\n",
              "      <td>2</td>\n",
              "    </tr>\n",
              "    <tr>\n",
              "      <th>Mazda</th>\n",
              "      <td>1</td>\n",
              "    </tr>\n",
              "    <tr>\n",
              "      <th>Lexus</th>\n",
              "      <td>1</td>\n",
              "    </tr>\n",
              "    <tr>\n",
              "      <th>DS</th>\n",
              "      <td>1</td>\n",
              "    </tr>\n",
              "    <tr>\n",
              "      <th>Dacia</th>\n",
              "      <td>1</td>\n",
              "    </tr>\n",
              "    <tr>\n",
              "      <th>JAC</th>\n",
              "      <td>1</td>\n",
              "    </tr>\n",
              "    <tr>\n",
              "      <th>Seres</th>\n",
              "      <td>1</td>\n",
              "    </tr>\n",
              "    <tr>\n",
              "      <th>SEAT</th>\n",
              "      <td>1</td>\n",
              "    </tr>\n",
              "    <tr>\n",
              "      <th>Mini</th>\n",
              "      <td>1</td>\n",
              "    </tr>\n",
              "    <tr>\n",
              "      <th>Sono</th>\n",
              "      <td>1</td>\n",
              "    </tr>\n",
              "    <tr>\n",
              "      <th>Lightyear</th>\n",
              "      <td>1</td>\n",
              "    </tr>\n",
              "    <tr>\n",
              "      <th>Jaguar</th>\n",
              "      <td>1</td>\n",
              "    </tr>\n",
              "    <tr>\n",
              "      <th>Aiways</th>\n",
              "      <td>1</td>\n",
              "    </tr>\n",
              "  </tbody>\n",
              "</table>\n",
              "</div>"
            ],
            "text/plain": [
              "            vehicle name\n",
              "Audi                  17\n",
              "Tesla                 15\n",
              "Volkswagen            11\n",
              "Porsche               10\n",
              "Hyundai               10\n",
              "Mercedes               9\n",
              "Peugeot                9\n",
              "Kia                    9\n",
              "Opel                   8\n",
              "Nissan                 8\n",
              "BMW                    7\n",
              "Renault                6\n",
              "MG                     6\n",
              "Citroen                6\n",
              "Skoda                  5\n",
              "Ford                   5\n",
              "Toyota                 4\n",
              "CUPRA                  4\n",
              "Fiat                   4\n",
              "Smart                  3\n",
              "Lucid                  3\n",
              "Polestar               3\n",
              "Byton                  3\n",
              "Honda                  2\n",
              "Volvo                  2\n",
              "Mazda                  1\n",
              "Lexus                  1\n",
              "DS                     1\n",
              "Dacia                  1\n",
              "JAC                    1\n",
              "Seres                  1\n",
              "SEAT                   1\n",
              "Mini                   1\n",
              "Sono                   1\n",
              "Lightyear              1\n",
              "Jaguar                 1\n",
              "Aiways                 1"
            ]
          },
          "metadata": {},
          "execution_count": 21
        }
      ]
    },
    {
      "cell_type": "code",
      "metadata": {
        "colab": {
          "base_uri": "https://localhost:8080/",
          "height": 450
        },
        "id": "C_OmCeZhz2cZ",
        "outputId": "ae3378b3-8656-44e1-e261-9a17a3a00097"
      },
      "source": [
        "# Checking for the location of missing values for the price in Germany\n",
        "data[data['price ger'].isnull()]"
      ],
      "execution_count": 22,
      "outputs": [
        {
          "output_type": "execute_result",
          "data": {
            "text/html": [
              "<div>\n",
              "<style scoped>\n",
              "    .dataframe tbody tr th:only-of-type {\n",
              "        vertical-align: middle;\n",
              "    }\n",
              "\n",
              "    .dataframe tbody tr th {\n",
              "        vertical-align: top;\n",
              "    }\n",
              "\n",
              "    .dataframe thead th {\n",
              "        text-align: right;\n",
              "    }\n",
              "</style>\n",
              "<table border=\"1\" class=\"dataframe\">\n",
              "  <thead>\n",
              "    <tr style=\"text-align: right;\">\n",
              "      <th></th>\n",
              "      <th>model</th>\n",
              "      <th>battery kWh</th>\n",
              "      <th>acceleration sec</th>\n",
              "      <th>top speeds km/h</th>\n",
              "      <th>efficiency Wh/km</th>\n",
              "      <th>fast charge km/h</th>\n",
              "      <th>price uk</th>\n",
              "      <th>price ger</th>\n",
              "      <th>price nl</th>\n",
              "      <th>vehicle name</th>\n",
              "    </tr>\n",
              "  </thead>\n",
              "  <tbody>\n",
              "    <tr>\n",
              "      <th>4</th>\n",
              "      <td>Model 3 Long Range Dual Motor</td>\n",
              "      <td>70.0</td>\n",
              "      <td>4.4</td>\n",
              "      <td>233.0</td>\n",
              "      <td>154.0</td>\n",
              "      <td>570.0</td>\n",
              "      <td>48490.0</td>\n",
              "      <td>NaN</td>\n",
              "      <td>NaN</td>\n",
              "      <td>Tesla</td>\n",
              "    </tr>\n",
              "    <tr>\n",
              "      <th>13</th>\n",
              "      <td>ID.4 1st</td>\n",
              "      <td>77.0</td>\n",
              "      <td>8.5</td>\n",
              "      <td>160.0</td>\n",
              "      <td>188.0</td>\n",
              "      <td>500.0</td>\n",
              "      <td>40800.0</td>\n",
              "      <td>NaN</td>\n",
              "      <td>NaN</td>\n",
              "      <td>Volkswagen</td>\n",
              "    </tr>\n",
              "    <tr>\n",
              "      <th>22</th>\n",
              "      <td>e-Up!</td>\n",
              "      <td>32.3</td>\n",
              "      <td>11.9</td>\n",
              "      <td>130.0</td>\n",
              "      <td>158.0</td>\n",
              "      <td>170.0</td>\n",
              "      <td>NaN</td>\n",
              "      <td>NaN</td>\n",
              "      <td>25850.0</td>\n",
              "      <td>Volkswagen</td>\n",
              "    </tr>\n",
              "    <tr>\n",
              "      <th>48</th>\n",
              "      <td>e-tron 55 quattro</td>\n",
              "      <td>86.5</td>\n",
              "      <td>5.7</td>\n",
              "      <td>200.0</td>\n",
              "      <td>237.0</td>\n",
              "      <td>590.0</td>\n",
              "      <td>71500.0</td>\n",
              "      <td>NaN</td>\n",
              "      <td>NaN</td>\n",
              "      <td>Audi</td>\n",
              "    </tr>\n",
              "    <tr>\n",
              "      <th>71</th>\n",
              "      <td>MG5 EV</td>\n",
              "      <td>48.8</td>\n",
              "      <td>7.7</td>\n",
              "      <td>185.0</td>\n",
              "      <td>165.0</td>\n",
              "      <td>340.0</td>\n",
              "      <td>25095.0</td>\n",
              "      <td>NaN</td>\n",
              "      <td>NaN</td>\n",
              "      <td>MG</td>\n",
              "    </tr>\n",
              "    <tr>\n",
              "      <th>74</th>\n",
              "      <td>3</td>\n",
              "      <td>52.0</td>\n",
              "      <td>8.9</td>\n",
              "      <td>155.0</td>\n",
              "      <td>193.0</td>\n",
              "      <td>390.0</td>\n",
              "      <td>NaN</td>\n",
              "      <td>NaN</td>\n",
              "      <td>37995.0</td>\n",
              "      <td>Seres</td>\n",
              "    </tr>\n",
              "    <tr>\n",
              "      <th>89</th>\n",
              "      <td>MG5 EV Long Range</td>\n",
              "      <td>57.0</td>\n",
              "      <td>7.7</td>\n",
              "      <td>185.0</td>\n",
              "      <td>168.0</td>\n",
              "      <td>340.0</td>\n",
              "      <td>26495.0</td>\n",
              "      <td>NaN</td>\n",
              "      <td>NaN</td>\n",
              "      <td>MG</td>\n",
              "    </tr>\n",
              "    <tr>\n",
              "      <th>91</th>\n",
              "      <td>e-Soul 64 kWh</td>\n",
              "      <td>64.0</td>\n",
              "      <td>7.9</td>\n",
              "      <td>167.0</td>\n",
              "      <td>173.0</td>\n",
              "      <td>350.0</td>\n",
              "      <td>37545.0</td>\n",
              "      <td>NaN</td>\n",
              "      <td>NaN</td>\n",
              "      <td>Kia</td>\n",
              "    </tr>\n",
              "    <tr>\n",
              "      <th>102</th>\n",
              "      <td>ID.3 Pure Performance</td>\n",
              "      <td>45.0</td>\n",
              "      <td>8.9</td>\n",
              "      <td>160.0</td>\n",
              "      <td>164.0</td>\n",
              "      <td>260.0</td>\n",
              "      <td>27135.0</td>\n",
              "      <td>NaN</td>\n",
              "      <td>33490.0</td>\n",
              "      <td>Volkswagen</td>\n",
              "    </tr>\n",
              "    <tr>\n",
              "      <th>112</th>\n",
              "      <td>Kangoo Maxi ZE 33</td>\n",
              "      <td>31.0</td>\n",
              "      <td>22.4</td>\n",
              "      <td>130.0</td>\n",
              "      <td>194.0</td>\n",
              "      <td>0.0</td>\n",
              "      <td>31680.0</td>\n",
              "      <td>NaN</td>\n",
              "      <td>38801.0</td>\n",
              "      <td>Renault</td>\n",
              "    </tr>\n",
              "    <tr>\n",
              "      <th>113</th>\n",
              "      <td>e-tron Sportback 55 quattro</td>\n",
              "      <td>86.5</td>\n",
              "      <td>5.7</td>\n",
              "      <td>200.0</td>\n",
              "      <td>231.0</td>\n",
              "      <td>600.0</td>\n",
              "      <td>79900.0</td>\n",
              "      <td>NaN</td>\n",
              "      <td>NaN</td>\n",
              "      <td>Audi</td>\n",
              "    </tr>\n",
              "    <tr>\n",
              "      <th>119</th>\n",
              "      <td>Mustang Mach-E GT</td>\n",
              "      <td>88.0</td>\n",
              "      <td>4.4</td>\n",
              "      <td>200.0</td>\n",
              "      <td>215.0</td>\n",
              "      <td>400.0</td>\n",
              "      <td>67225.0</td>\n",
              "      <td>NaN</td>\n",
              "      <td>75490.0</td>\n",
              "      <td>Ford</td>\n",
              "    </tr>\n",
              "    <tr>\n",
              "      <th>147</th>\n",
              "      <td>iEV7s</td>\n",
              "      <td>39.0</td>\n",
              "      <td>12.0</td>\n",
              "      <td>132.0</td>\n",
              "      <td>173.0</td>\n",
              "      <td>160.0</td>\n",
              "      <td>NaN</td>\n",
              "      <td>NaN</td>\n",
              "      <td>32210.0</td>\n",
              "      <td>JAC</td>\n",
              "    </tr>\n",
              "  </tbody>\n",
              "</table>\n",
              "</div>"
            ],
            "text/plain": [
              "                             model  battery kWh  ...  price nl  vehicle name\n",
              "4    Model 3 Long Range Dual Motor         70.0  ...       NaN         Tesla\n",
              "13                        ID.4 1st         77.0  ...       NaN    Volkswagen\n",
              "22                          e-Up!          32.3  ...   25850.0    Volkswagen\n",
              "48               e-tron 55 quattro         86.5  ...       NaN          Audi\n",
              "71                          MG5 EV         48.8  ...       NaN            MG\n",
              "74                              3          52.0  ...   37995.0         Seres\n",
              "89               MG5 EV Long Range         57.0  ...       NaN            MG\n",
              "91                   e-Soul 64 kWh         64.0  ...       NaN           Kia\n",
              "102          ID.3 Pure Performance         45.0  ...   33490.0    Volkswagen\n",
              "112              Kangoo Maxi ZE 33         31.0  ...   38801.0       Renault\n",
              "113    e-tron Sportback 55 quattro         86.5  ...       NaN          Audi\n",
              "119              Mustang Mach-E GT         88.0  ...   75490.0          Ford\n",
              "147                         iEV7s          39.0  ...   32210.0           JAC\n",
              "\n",
              "[13 rows x 10 columns]"
            ]
          },
          "metadata": {},
          "execution_count": 22
        }
      ]
    },
    {
      "cell_type": "code",
      "metadata": {
        "colab": {
          "base_uri": "https://localhost:8080/"
        },
        "id": "RJMvdNcxZ6Zq",
        "outputId": "410eb1d1-a1fb-41a3-d70c-5196d0598460"
      },
      "source": [
        "# Creating a new dataframe by dropping NaN values in the dataset\n",
        "new_data = data.dropna(axis=0)\n",
        "new_data.isnull().sum()"
      ],
      "execution_count": 23,
      "outputs": [
        {
          "output_type": "execute_result",
          "data": {
            "text/plain": [
              "model               0\n",
              "battery kWh         0\n",
              "acceleration sec    0\n",
              "top speeds km/h     0\n",
              "efficiency Wh/km    0\n",
              "fast charge km/h    0\n",
              "price uk            0\n",
              "price ger           0\n",
              "price nl            0\n",
              "vehicle name        0\n",
              "dtype: int64"
            ]
          },
          "metadata": {},
          "execution_count": 23
        }
      ]
    },
    {
      "cell_type": "code",
      "metadata": {
        "colab": {
          "base_uri": "https://localhost:8080/",
          "height": 742
        },
        "id": "08l5wyxGdcJo",
        "outputId": "011447a6-2b8c-4942-8e35-64a498d8e4fa"
      },
      "source": [
        "# Showing a visualization i.e. Distribution plot for the price in different countries\n",
        "fig = plt.figure(figsize=(15,10))\n",
        "plt.subplot(2,2,1)\n",
        "sns.distplot(data['price ger'], bins=40)\n",
        "plt.title('Germany Price in ')\n",
        "\n",
        "plt.subplot(2,2,2)\n",
        "sns.distplot(data['price nl'], bins=40)\n",
        "plt.title('Netherland Price in ')\n",
        "\n",
        "plt.subplot(2,2,3)\n",
        "sns.distplot(data['price uk'], bins=40)\n",
        "plt.title('United Kingdom Price in ')\n",
        "plt.show()"
      ],
      "execution_count": 24,
      "outputs": [
        {
          "output_type": "stream",
          "name": "stderr",
          "text": [
            "/usr/local/lib/python3.7/dist-packages/seaborn/distributions.py:2557: FutureWarning: `distplot` is a deprecated function and will be removed in a future version. Please adapt your code to use either `displot` (a figure-level function with similar flexibility) or `histplot` (an axes-level function for histograms).\n",
            "  warnings.warn(msg, FutureWarning)\n",
            "/usr/local/lib/python3.7/dist-packages/seaborn/distributions.py:2557: FutureWarning: `distplot` is a deprecated function and will be removed in a future version. Please adapt your code to use either `displot` (a figure-level function with similar flexibility) or `histplot` (an axes-level function for histograms).\n",
            "  warnings.warn(msg, FutureWarning)\n",
            "/usr/local/lib/python3.7/dist-packages/seaborn/distributions.py:2557: FutureWarning: `distplot` is a deprecated function and will be removed in a future version. Please adapt your code to use either `displot` (a figure-level function with similar flexibility) or `histplot` (an axes-level function for histograms).\n",
            "  warnings.warn(msg, FutureWarning)\n"
          ]
        },
        {
          "output_type": "display_data",
          "data": {
            "image/png": "[encoded data removed]",
            "text/plain": [
              "<Figure size 1080x720 with 3 Axes>"
            ]
          },
          "metadata": {
            "needs_background": "light"
          }
        }
      ]
    },
    {
      "cell_type": "code",
      "metadata": {
        "colab": {
          "base_uri": "https://localhost:8080/"
        },
        "id": "68Baxd0MdcQo",
        "outputId": "99e1d825-9617-4491-e187-822be605069c"
      },
      "source": [
        "ax = data.groupby('battery kWh')['price ger', 'price nl', 'price uk'].mean()"
      ],
      "execution_count": 25,
      "outputs": [
        {
          "output_type": "stream",
          "name": "stderr",
          "text": [
            "/usr/local/lib/python3.7/dist-packages/ipykernel_launcher.py:1: FutureWarning: Indexing with multiple keys (implicitly converted to a tuple of keys) will be deprecated, use a list instead.\n",
            "  \"\"\"Entry point for launching an IPython kernel.\n"
          ]
        }
      ]
    },
    {
      "cell_type": "code",
      "metadata": {
        "colab": {
          "base_uri": "https://localhost:8080/",
          "height": 494
        },
        "id": "Uzco8BpAdcXw",
        "outputId": "6dc72425-b23c-450a-c882-dabf6d8f14cf"
      },
      "source": [
        "plt.figure(figsize=(8,6))\n",
        "sns.kdeplot(ax['price ger'], ax.index, color='orange', label='price ger')\n",
        "sns.kdeplot(ax['price nl'], ax.index, color='blue', label='price nl')\n",
        "plt.legend(loc='upper left', fontsize=14)\n",
        "plt.title('Bivariate KDE Plot of Price in Germany and Netherland', fontsize=16)\n",
        "plt.show()"
      ],
      "execution_count": 26,
      "outputs": [
        {
          "output_type": "stream",
          "name": "stderr",
          "text": [
            "/usr/local/lib/python3.7/dist-packages/seaborn/_decorators.py:43: FutureWarning: Pass the following variable as a keyword arg: y. From version 0.12, the only valid positional argument will be `data`, and passing other arguments without an explicit keyword will result in an error or misinterpretation.\n",
            "  FutureWarning\n",
            "/usr/local/lib/python3.7/dist-packages/seaborn/_decorators.py:43: FutureWarning: Pass the following variable as a keyword arg: y. From version 0.12, the only valid positional argument will be `data`, and passing other arguments without an explicit keyword will result in an error or misinterpretation.\n",
            "  FutureWarning\n"
          ]
        },
        {
          "output_type": "display_data",
          "data": {
            "image/png": "[encoded data removed]",
            "text/plain": [
              "<Figure size 576x432 with 1 Axes>"
            ]
          },
          "metadata": {
            "needs_background": "light"
          }
        }
      ]
    },
    {
      "cell_type": "code",
      "metadata": {
        "colab": {
          "base_uri": "https://localhost:8080/",
          "height": 296
        },
        "id": "t-0FmGSxdcfq",
        "outputId": "e3da5baa-744c-48c1-f14e-cb5672e96420"
      },
      "source": [
        "sns.histplot(data=ax, x=ax['price ger'], y=ax.index, color='orange')\n",
        "sns.histplot(data=ax, x=ax['price nl'], y=ax.index, color='brown')"
      ],
      "execution_count": 27,
      "outputs": [
        {
          "output_type": "execute_result",
          "data": {
            "text/plain": [
              "<matplotlib.axes._subplots.AxesSubplot at 0x7f4da441e250>"
            ]
          },
          "metadata": {},
          "execution_count": 27
        },
        {
          "output_type": "display_data",
          "data": {
            "image/png": "[encoded data removed]",
            "text/plain": [
              "<Figure size 432x288 with 1 Axes>"
            ]
          },
          "metadata": {
            "needs_background": "light"
          }
        }
      ]
    },
    {
      "cell_type": "code",
      "metadata": {
        "colab": {
          "base_uri": "https://localhost:8080/"
        },
        "id": "gijNVitbnEB4",
        "outputId": "32f96b55-a7d8-418b-8c84-3e246ce58b66"
      },
      "source": [
        "missing_index =[]\n",
        "data[data['price nl'].isnull()].index"
      ],
      "execution_count": 28,
      "outputs": [
        {
          "output_type": "execute_result",
          "data": {
            "text/plain": [
              "Int64Index([  4,  13,  48,  69,  71,  75,  78,  87,  89,  91, 113, 121, 123,\n",
              "            142, 148, 153, 155, 164, 166, 171, 174, 175, 176, 178, 179],\n",
              "           dtype='int64')"
            ]
          },
          "metadata": {},
          "execution_count": 28
        }
      ]
    },
    {
      "cell_type": "code",
      "metadata": {
        "id": "s2i4Q6ponEI6"
      },
      "source": [
        ""
      ],
      "execution_count": 28,
      "outputs": []
    },
    {
      "cell_type": "code",
      "metadata": {
        "id": "Ik9CDTsRnEN4"
      },
      "source": [
        "# A function to fill the missing values of price in Germany by those in Netherland\n",
        "def fill_nan(df):\n",
        "  if np.isnan(df['price ger']):\n",
        "    return df['price nl']\n",
        "  else:\n",
        "    return df['price ger']\n",
        "\n",
        "data['price ger'] = data.apply(lambda df: fill_nan(df), axis=1)"
      ],
      "execution_count": 29,
      "outputs": []
    },
    {
      "cell_type": "code",
      "metadata": {
        "id": "PmqdFzBQnEUr",
        "colab": {
          "base_uri": "https://localhost:8080/"
        },
        "outputId": "f9f0d4dc-adbf-4d78-cc65-1a66aa2f2e8b"
      },
      "source": [
        "# Count of missing values in Germany\n",
        "data['price ger'].isnull().sum()"
      ],
      "execution_count": 30,
      "outputs": [
        {
          "output_type": "execute_result",
          "data": {
            "text/plain": [
              "7"
            ]
          },
          "metadata": {},
          "execution_count": 30
        }
      ]
    },
    {
      "cell_type": "code",
      "metadata": {
        "id": "zGAiU-lzdFjb"
      },
      "source": [
        "# A function that fills the missing values of price in Netherland with those in Germany\n",
        "def fill_nan(df):\n",
        "  if np.isnan(df['price nl']):\n",
        "    return df['price ger']\n",
        "  else:\n",
        "    return df['price nl']\n",
        "\n",
        "data['price nl'] = data.apply(lambda df: fill_nan(df), axis=1)"
      ],
      "execution_count": 31,
      "outputs": []
    },
    {
      "cell_type": "code",
      "metadata": {
        "colab": {
          "base_uri": "https://localhost:8080/"
        },
        "id": "mmhwo73_dFlh",
        "outputId": "79d7657e-9faa-4a38-e407-cedd7591b930"
      },
      "source": [
        "# Counting the missing values in Netherland\n",
        "data['price nl'].isnull().sum()"
      ],
      "execution_count": 32,
      "outputs": [
        {
          "output_type": "execute_result",
          "data": {
            "text/plain": [
              "7"
            ]
          },
          "metadata": {},
          "execution_count": 32
        }
      ]
    },
    {
      "cell_type": "code",
      "metadata": {
        "colab": {
          "base_uri": "https://localhost:8080/",
          "height": 265
        },
        "id": "VTb7dLuhdFyS",
        "outputId": "20d237a3-8dd6-4e41-9aaf-ff709936cc66"
      },
      "source": [
        "data[data['price ger'].isnull()]"
      ],
      "execution_count": 33,
      "outputs": [
        {
          "output_type": "execute_result",
          "data": {
            "text/html": [
              "<div>\n",
              "<style scoped>\n",
              "    .dataframe tbody tr th:only-of-type {\n",
              "        vertical-align: middle;\n",
              "    }\n",
              "\n",
              "    .dataframe tbody tr th {\n",
              "        vertical-align: top;\n",
              "    }\n",
              "\n",
              "    .dataframe thead th {\n",
              "        text-align: right;\n",
              "    }\n",
              "</style>\n",
              "<table border=\"1\" class=\"dataframe\">\n",
              "  <thead>\n",
              "    <tr style=\"text-align: right;\">\n",
              "      <th></th>\n",
              "      <th>model</th>\n",
              "      <th>battery kWh</th>\n",
              "      <th>acceleration sec</th>\n",
              "      <th>top speeds km/h</th>\n",
              "      <th>efficiency Wh/km</th>\n",
              "      <th>fast charge km/h</th>\n",
              "      <th>price uk</th>\n",
              "      <th>price ger</th>\n",
              "      <th>price nl</th>\n",
              "      <th>vehicle name</th>\n",
              "    </tr>\n",
              "  </thead>\n",
              "  <tbody>\n",
              "    <tr>\n",
              "      <th>4</th>\n",
              "      <td>Model 3 Long Range Dual Motor</td>\n",
              "      <td>70.0</td>\n",
              "      <td>4.4</td>\n",
              "      <td>233.0</td>\n",
              "      <td>154.0</td>\n",
              "      <td>570.0</td>\n",
              "      <td>48490.0</td>\n",
              "      <td>NaN</td>\n",
              "      <td>NaN</td>\n",
              "      <td>Tesla</td>\n",
              "    </tr>\n",
              "    <tr>\n",
              "      <th>13</th>\n",
              "      <td>ID.4 1st</td>\n",
              "      <td>77.0</td>\n",
              "      <td>8.5</td>\n",
              "      <td>160.0</td>\n",
              "      <td>188.0</td>\n",
              "      <td>500.0</td>\n",
              "      <td>40800.0</td>\n",
              "      <td>NaN</td>\n",
              "      <td>NaN</td>\n",
              "      <td>Volkswagen</td>\n",
              "    </tr>\n",
              "    <tr>\n",
              "      <th>48</th>\n",
              "      <td>e-tron 55 quattro</td>\n",
              "      <td>86.5</td>\n",
              "      <td>5.7</td>\n",
              "      <td>200.0</td>\n",
              "      <td>237.0</td>\n",
              "      <td>590.0</td>\n",
              "      <td>71500.0</td>\n",
              "      <td>NaN</td>\n",
              "      <td>NaN</td>\n",
              "      <td>Audi</td>\n",
              "    </tr>\n",
              "    <tr>\n",
              "      <th>71</th>\n",
              "      <td>MG5 EV</td>\n",
              "      <td>48.8</td>\n",
              "      <td>7.7</td>\n",
              "      <td>185.0</td>\n",
              "      <td>165.0</td>\n",
              "      <td>340.0</td>\n",
              "      <td>25095.0</td>\n",
              "      <td>NaN</td>\n",
              "      <td>NaN</td>\n",
              "      <td>MG</td>\n",
              "    </tr>\n",
              "    <tr>\n",
              "      <th>89</th>\n",
              "      <td>MG5 EV Long Range</td>\n",
              "      <td>57.0</td>\n",
              "      <td>7.7</td>\n",
              "      <td>185.0</td>\n",
              "      <td>168.0</td>\n",
              "      <td>340.0</td>\n",
              "      <td>26495.0</td>\n",
              "      <td>NaN</td>\n",
              "      <td>NaN</td>\n",
              "      <td>MG</td>\n",
              "    </tr>\n",
              "    <tr>\n",
              "      <th>91</th>\n",
              "      <td>e-Soul 64 kWh</td>\n",
              "      <td>64.0</td>\n",
              "      <td>7.9</td>\n",
              "      <td>167.0</td>\n",
              "      <td>173.0</td>\n",
              "      <td>350.0</td>\n",
              "      <td>37545.0</td>\n",
              "      <td>NaN</td>\n",
              "      <td>NaN</td>\n",
              "      <td>Kia</td>\n",
              "    </tr>\n",
              "    <tr>\n",
              "      <th>113</th>\n",
              "      <td>e-tron Sportback 55 quattro</td>\n",
              "      <td>86.5</td>\n",
              "      <td>5.7</td>\n",
              "      <td>200.0</td>\n",
              "      <td>231.0</td>\n",
              "      <td>600.0</td>\n",
              "      <td>79900.0</td>\n",
              "      <td>NaN</td>\n",
              "      <td>NaN</td>\n",
              "      <td>Audi</td>\n",
              "    </tr>\n",
              "  </tbody>\n",
              "</table>\n",
              "</div>"
            ],
            "text/plain": [
              "                             model  battery kWh  ...  price nl  vehicle name\n",
              "4    Model 3 Long Range Dual Motor         70.0  ...       NaN         Tesla\n",
              "13                        ID.4 1st         77.0  ...       NaN    Volkswagen\n",
              "48               e-tron 55 quattro         86.5  ...       NaN          Audi\n",
              "71                          MG5 EV         48.8  ...       NaN            MG\n",
              "89               MG5 EV Long Range         57.0  ...       NaN            MG\n",
              "91                   e-Soul 64 kWh         64.0  ...       NaN           Kia\n",
              "113    e-tron Sportback 55 quattro         86.5  ...       NaN          Audi\n",
              "\n",
              "[7 rows x 10 columns]"
            ]
          },
          "metadata": {},
          "execution_count": 33
        }
      ]
    },
    {
      "cell_type": "code",
      "metadata": {
        "colab": {
          "base_uri": "https://localhost:8080/",
          "height": 363
        },
        "id": "pqMY_42Ddp67",
        "outputId": "d8c03b8d-eb39-44b0-cefe-c4a0bcd16702"
      },
      "source": [
        "# Generating a heatmap to see how each variables correlate with one another\n",
        "sns.heatmap(new_data.corr(), annot=True)"
      ],
      "execution_count": 34,
      "outputs": [
        {
          "output_type": "execute_result",
          "data": {
            "text/plain": [
              "<matplotlib.axes._subplots.AxesSubplot at 0x7f4da2884a50>"
            ]
          },
          "metadata": {},
          "execution_count": 34
        },
        {
          "output_type": "display_data",
          "data": {
            "image/png": "[encoded data removed]",
            "text/plain": [
              "<Figure size 432x288 with 2 Axes>"
            ]
          },
          "metadata": {
            "needs_background": "light"
          }
        }
      ]
    },
    {
      "cell_type": "code",
      "metadata": {
        "id": "X2Fz06mmdqBP"
      },
      "source": [
        "# Now let's convert all currency to the Euros"
      ],
      "execution_count": 35,
      "outputs": []
    },
    {
      "cell_type": "code",
      "metadata": {
        "id": "OIxT65XFdqHL"
      },
      "source": [
        "data['price uk'] = data['price uk']*1.17"
      ],
      "execution_count": 36,
      "outputs": []
    },
    {
      "cell_type": "code",
      "metadata": {
        "id": "7apakCq2f0Gl"
      },
      "source": [
        "data['price ger'] = data['price ger']\n",
        "data['price nl'] = data['price nl']"
      ],
      "execution_count": 37,
      "outputs": []
    },
    {
      "cell_type": "code",
      "metadata": {
        "colab": {
          "base_uri": "https://localhost:8080/",
          "height": 363
        },
        "id": "eiLRLA9yf0Lg",
        "outputId": "a85403c9-0f2a-406b-959d-9e85ea513ba3"
      },
      "source": [
        "sns.heatmap(data.dropna(axis=0).corr(), annot=True)"
      ],
      "execution_count": 38,
      "outputs": [
        {
          "output_type": "execute_result",
          "data": {
            "text/plain": [
              "<matplotlib.axes._subplots.AxesSubplot at 0x7f4da26ec950>"
            ]
          },
          "metadata": {},
          "execution_count": 38
        },
        {
          "output_type": "display_data",
          "data": {
            "image/png": "[encoded data removed]",
            "text/plain": [
              "<Figure size 432x288 with 2 Axes>"
            ]
          },
          "metadata": {
            "needs_background": "light"
          }
        }
      ]
    },
    {
      "cell_type": "code",
      "metadata": {
        "colab": {
          "base_uri": "https://localhost:8080/",
          "height": 357
        },
        "id": "Y1tjshaGf0Nz",
        "outputId": "bc4b2d24-ad97-4c38-e4b0-42233684d688"
      },
      "source": [
        "data.head(10)"
      ],
      "execution_count": 39,
      "outputs": [
        {
          "output_type": "execute_result",
          "data": {
            "text/html": [
              "<div>\n",
              "<style scoped>\n",
              "    .dataframe tbody tr th:only-of-type {\n",
              "        vertical-align: middle;\n",
              "    }\n",
              "\n",
              "    .dataframe tbody tr th {\n",
              "        vertical-align: top;\n",
              "    }\n",
              "\n",
              "    .dataframe thead th {\n",
              "        text-align: right;\n",
              "    }\n",
              "</style>\n",
              "<table border=\"1\" class=\"dataframe\">\n",
              "  <thead>\n",
              "    <tr style=\"text-align: right;\">\n",
              "      <th></th>\n",
              "      <th>model</th>\n",
              "      <th>battery kWh</th>\n",
              "      <th>acceleration sec</th>\n",
              "      <th>top speeds km/h</th>\n",
              "      <th>efficiency Wh/km</th>\n",
              "      <th>fast charge km/h</th>\n",
              "      <th>price uk</th>\n",
              "      <th>price ger</th>\n",
              "      <th>price nl</th>\n",
              "      <th>vehicle name</th>\n",
              "    </tr>\n",
              "  </thead>\n",
              "  <tbody>\n",
              "    <tr>\n",
              "      <th>0</th>\n",
              "      <td>EQS 580 4MATIC</td>\n",
              "      <td>107.8</td>\n",
              "      <td>4.3</td>\n",
              "      <td>210.0</td>\n",
              "      <td>177.0</td>\n",
              "      <td>800.0</td>\n",
              "      <td>134550.00</td>\n",
              "      <td>135529.0</td>\n",
              "      <td>140000.0</td>\n",
              "      <td>Mercedes</td>\n",
              "    </tr>\n",
              "    <tr>\n",
              "      <th>1</th>\n",
              "      <td>Model 3 Standard Range Plus LFP</td>\n",
              "      <td>52.5</td>\n",
              "      <td>5.6</td>\n",
              "      <td>225.0</td>\n",
              "      <td>150.0</td>\n",
              "      <td>560.0</td>\n",
              "      <td>47958.30</td>\n",
              "      <td>43560.0</td>\n",
              "      <td>49990.0</td>\n",
              "      <td>Tesla</td>\n",
              "    </tr>\n",
              "    <tr>\n",
              "      <th>2</th>\n",
              "      <td>Model Y Long Range Dual Motor</td>\n",
              "      <td>70.0</td>\n",
              "      <td>5.0</td>\n",
              "      <td>217.0</td>\n",
              "      <td>171.0</td>\n",
              "      <td>520.0</td>\n",
              "      <td>63180.00</td>\n",
              "      <td>59965.0</td>\n",
              "      <td>65010.0</td>\n",
              "      <td>Tesla</td>\n",
              "    </tr>\n",
              "    <tr>\n",
              "      <th>3</th>\n",
              "      <td>EV6 GT</td>\n",
              "      <td>77.4</td>\n",
              "      <td>3.5</td>\n",
              "      <td>260.0</td>\n",
              "      <td>196.0</td>\n",
              "      <td>920.0</td>\n",
              "      <td>68205.15</td>\n",
              "      <td>65990.0</td>\n",
              "      <td>63595.0</td>\n",
              "      <td>Kia</td>\n",
              "    </tr>\n",
              "    <tr>\n",
              "      <th>4</th>\n",
              "      <td>Model 3 Long Range Dual Motor</td>\n",
              "      <td>70.0</td>\n",
              "      <td>4.4</td>\n",
              "      <td>233.0</td>\n",
              "      <td>154.0</td>\n",
              "      <td>570.0</td>\n",
              "      <td>56733.30</td>\n",
              "      <td>NaN</td>\n",
              "      <td>NaN</td>\n",
              "      <td>Tesla</td>\n",
              "    </tr>\n",
              "    <tr>\n",
              "      <th>5</th>\n",
              "      <td>Model 3 Standard Range Plus</td>\n",
              "      <td>51.0</td>\n",
              "      <td>5.6</td>\n",
              "      <td>225.0</td>\n",
              "      <td>146.0</td>\n",
              "      <td>700.0</td>\n",
              "      <td>47958.30</td>\n",
              "      <td>43560.0</td>\n",
              "      <td>49990.0</td>\n",
              "      <td>Tesla</td>\n",
              "    </tr>\n",
              "    <tr>\n",
              "      <th>6</th>\n",
              "      <td>Enyaq iV 80</td>\n",
              "      <td>77.0</td>\n",
              "      <td>8.6</td>\n",
              "      <td>160.0</td>\n",
              "      <td>183.0</td>\n",
              "      <td>510.0</td>\n",
              "      <td>46057.05</td>\n",
              "      <td>43950.0</td>\n",
              "      <td>47780.0</td>\n",
              "      <td>Skoda</td>\n",
              "    </tr>\n",
              "    <tr>\n",
              "      <th>7</th>\n",
              "      <td>Spring Electric</td>\n",
              "      <td>26.8</td>\n",
              "      <td>15.0</td>\n",
              "      <td>125.0</td>\n",
              "      <td>158.0</td>\n",
              "      <td>120.0</td>\n",
              "      <td>NaN</td>\n",
              "      <td>20490.0</td>\n",
              "      <td>17890.0</td>\n",
              "      <td>Dacia</td>\n",
              "    </tr>\n",
              "    <tr>\n",
              "      <th>8</th>\n",
              "      <td>Leaf</td>\n",
              "      <td>37.0</td>\n",
              "      <td>7.9</td>\n",
              "      <td>144.0</td>\n",
              "      <td>164.0</td>\n",
              "      <td>230.0</td>\n",
              "      <td>30414.15</td>\n",
              "      <td>29990.0</td>\n",
              "      <td>34990.0</td>\n",
              "      <td>Nissan</td>\n",
              "    </tr>\n",
              "    <tr>\n",
              "      <th>9</th>\n",
              "      <td>Kona Electric 64 kWh</td>\n",
              "      <td>64.0</td>\n",
              "      <td>7.9</td>\n",
              "      <td>167.0</td>\n",
              "      <td>162.0</td>\n",
              "      <td>370.0</td>\n",
              "      <td>NaN</td>\n",
              "      <td>41850.0</td>\n",
              "      <td>41595.0</td>\n",
              "      <td>Hyundai</td>\n",
              "    </tr>\n",
              "  </tbody>\n",
              "</table>\n",
              "</div>"
            ],
            "text/plain": [
              "                             model  battery kWh  ...  price nl  vehicle name\n",
              "0                   EQS 580 4MATIC        107.8  ...  140000.0      Mercedes\n",
              "1  Model 3 Standard Range Plus LFP         52.5  ...   49990.0         Tesla\n",
              "2    Model Y Long Range Dual Motor         70.0  ...   65010.0         Tesla\n",
              "3                           EV6 GT         77.4  ...   63595.0           Kia\n",
              "4    Model 3 Long Range Dual Motor         70.0  ...       NaN         Tesla\n",
              "5      Model 3 Standard Range Plus         51.0  ...   49990.0         Tesla\n",
              "6                      Enyaq iV 80         77.0  ...   47780.0         Skoda\n",
              "7                  Spring Electric         26.8  ...   17890.0         Dacia\n",
              "8                            Leaf          37.0  ...   34990.0        Nissan\n",
              "9             Kona Electric 64 kWh         64.0  ...   41595.0       Hyundai\n",
              "\n",
              "[10 rows x 10 columns]"
            ]
          },
          "metadata": {},
          "execution_count": 39
        }
      ]
    },
    {
      "cell_type": "code",
      "metadata": {
        "colab": {
          "base_uri": "https://localhost:8080/",
          "height": 404
        },
        "id": "eqHdjGyshzPH",
        "outputId": "f233ae41-2651-4537-996a-8d6123176480"
      },
      "source": [
        "plt.figure(figsize=(8,6))\n",
        "sns.kdeplot(data['price ger'], color='orange', label='price germany')\n",
        "sns.kdeplot(data['price uk'], color='lightblue', label='price uk')\n",
        "plt.title('Univariate KDE Plot of Price in Germany and UK')\n",
        "plt.legend(loc='upper right', fontsize=14)\n",
        "plt.show()"
      ],
      "execution_count": 40,
      "outputs": [
        {
          "output_type": "display_data",
          "data": {
            "image/png": "[encoded data removed]",
            "text/plain": [
              "<Figure size 576x432 with 1 Axes>"
            ]
          },
          "metadata": {
            "needs_background": "light"
          }
        }
      ]
    },
    {
      "cell_type": "code",
      "metadata": {
        "colab": {
          "base_uri": "https://localhost:8080/",
          "height": 404
        },
        "id": "YczHAd-zhzRW",
        "outputId": "ec1ef5d6-09e3-44a2-efb9-fad27b1273c6"
      },
      "source": [
        "plt.figure(figsize=(8,6))\n",
        "sns.kdeplot(data['price nl'], color='red', label='price netherland')\n",
        "sns.kdeplot(data['price uk'], color='lightblue', label='price uk')\n",
        "plt.title('Univariate KDE Plot of Price in Netherland and UK')\n",
        "plt.legend(loc='upper right', fontsize=14)\n",
        "plt.show()"
      ],
      "execution_count": 41,
      "outputs": [
        {
          "output_type": "display_data",
          "data": {
            "image/png": "[encoded data removed]",
            "text/plain": [
              "<Figure size 576x432 with 1 Axes>"
            ]
          },
          "metadata": {
            "needs_background": "light"
          }
        }
      ]
    },
    {
      "cell_type": "code",
      "metadata": {
        "colab": {
          "base_uri": "https://localhost:8080/",
          "height": 404
        },
        "id": "3G7U2BZfhzW2",
        "outputId": "2db2af2b-3dcc-4f3a-e4d4-90e38b0b45a5"
      },
      "source": [
        "plt.figure(figsize=(8,6))\n",
        "sns.kdeplot(data['price ger'], color='orange', label='price germany')\n",
        "sns.kdeplot(data['price nl'], color='red', label='price netherland')\n",
        "plt.title('Univariate KDE Plot of Price in Germany and Netherland')\n",
        "plt.legend(loc='upper right', fontsize=14)\n",
        "plt.show()"
      ],
      "execution_count": 42,
      "outputs": [
        {
          "output_type": "display_data",
          "data": {
            "image/png": "[encoded data removed]",
            "text/plain": [
              "<Figure size 576x432 with 1 Axes>"
            ]
          },
          "metadata": {
            "needs_background": "light"
          }
        }
      ]
    },
    {
      "cell_type": "code",
      "metadata": {
        "colab": {
          "base_uri": "https://localhost:8080/",
          "height": 404
        },
        "id": "TL-m5O42hzi8",
        "outputId": "50c9caa5-e986-47b0-f6c1-2e917bd7855a"
      },
      "source": [
        "plt.figure(figsize=(8,6))\n",
        "sns.kdeplot((data['price ger']+data['price nl'] + data['price uk'])/3, color='green', label='mean price in euro')\n",
        "sns.kdeplot(data['price uk'], color='lightblue', label='price uk')\n",
        "plt.title('Univariate KDE Plot of Mean Price and Price In The UK')\n",
        "plt.legend(loc='upper right', fontsize=14)\n",
        "plt.show()"
      ],
      "execution_count": 43,
      "outputs": [
        {
          "output_type": "display_data",
          "data": {
            "image/png": "[encoded data removed]",
            "text/plain": [
              "<Figure size 576x432 with 1 Axes>"
            ]
          },
          "metadata": {
            "needs_background": "light"
          }
        }
      ]
    },
    {
      "cell_type": "code",
      "metadata": {
        "id": "l0UFoTaZb-cx"
      },
      "source": [
        "from sklearn.preprocessing import MinMaxScaler\n",
        "from sklearn.metrics import r2_score, mean_absolute_error, mean_squared_error\n",
        "from sklearn.linear_model import LinearRegression, Lasso, Ridge"
      ],
      "execution_count": 44,
      "outputs": []
    },
    {
      "cell_type": "code",
      "metadata": {
        "id": "uiUZiO21X-GG"
      },
      "source": [
        "test = data[data.isnull()]"
      ],
      "execution_count": 45,
      "outputs": []
    },
    {
      "cell_type": "code",
      "metadata": {
        "id": "DV3r5K2cYYbD"
      },
      "source": [
        "test = data[data['price nl'].isnull()]"
      ],
      "execution_count": 46,
      "outputs": []
    },
    {
      "cell_type": "code",
      "metadata": {
        "colab": {
          "base_uri": "https://localhost:8080/",
          "height": 203
        },
        "id": "i3_4DamsYagL",
        "outputId": "921de7a6-fc70-4707-b541-8294c5b9de2d"
      },
      "source": [
        "test.head()"
      ],
      "execution_count": 47,
      "outputs": [
        {
          "output_type": "execute_result",
          "data": {
            "text/html": [
              "<div>\n",
              "<style scoped>\n",
              "    .dataframe tbody tr th:only-of-type {\n",
              "        vertical-align: middle;\n",
              "    }\n",
              "\n",
              "    .dataframe tbody tr th {\n",
              "        vertical-align: top;\n",
              "    }\n",
              "\n",
              "    .dataframe thead th {\n",
              "        text-align: right;\n",
              "    }\n",
              "</style>\n",
              "<table border=\"1\" class=\"dataframe\">\n",
              "  <thead>\n",
              "    <tr style=\"text-align: right;\">\n",
              "      <th></th>\n",
              "      <th>model</th>\n",
              "      <th>battery kWh</th>\n",
              "      <th>acceleration sec</th>\n",
              "      <th>top speeds km/h</th>\n",
              "      <th>efficiency Wh/km</th>\n",
              "      <th>fast charge km/h</th>\n",
              "      <th>price uk</th>\n",
              "      <th>price ger</th>\n",
              "      <th>price nl</th>\n",
              "      <th>vehicle name</th>\n",
              "    </tr>\n",
              "  </thead>\n",
              "  <tbody>\n",
              "    <tr>\n",
              "      <th>4</th>\n",
              "      <td>Model 3 Long Range Dual Motor</td>\n",
              "      <td>70.0</td>\n",
              "      <td>4.4</td>\n",
              "      <td>233.0</td>\n",
              "      <td>154.0</td>\n",
              "      <td>570.0</td>\n",
              "      <td>56733.30</td>\n",
              "      <td>NaN</td>\n",
              "      <td>NaN</td>\n",
              "      <td>Tesla</td>\n",
              "    </tr>\n",
              "    <tr>\n",
              "      <th>13</th>\n",
              "      <td>ID.4 1st</td>\n",
              "      <td>77.0</td>\n",
              "      <td>8.5</td>\n",
              "      <td>160.0</td>\n",
              "      <td>188.0</td>\n",
              "      <td>500.0</td>\n",
              "      <td>47736.00</td>\n",
              "      <td>NaN</td>\n",
              "      <td>NaN</td>\n",
              "      <td>Volkswagen</td>\n",
              "    </tr>\n",
              "    <tr>\n",
              "      <th>48</th>\n",
              "      <td>e-tron 55 quattro</td>\n",
              "      <td>86.5</td>\n",
              "      <td>5.7</td>\n",
              "      <td>200.0</td>\n",
              "      <td>237.0</td>\n",
              "      <td>590.0</td>\n",
              "      <td>83655.00</td>\n",
              "      <td>NaN</td>\n",
              "      <td>NaN</td>\n",
              "      <td>Audi</td>\n",
              "    </tr>\n",
              "    <tr>\n",
              "      <th>71</th>\n",
              "      <td>MG5 EV</td>\n",
              "      <td>48.8</td>\n",
              "      <td>7.7</td>\n",
              "      <td>185.0</td>\n",
              "      <td>165.0</td>\n",
              "      <td>340.0</td>\n",
              "      <td>29361.15</td>\n",
              "      <td>NaN</td>\n",
              "      <td>NaN</td>\n",
              "      <td>MG</td>\n",
              "    </tr>\n",
              "    <tr>\n",
              "      <th>89</th>\n",
              "      <td>MG5 EV Long Range</td>\n",
              "      <td>57.0</td>\n",
              "      <td>7.7</td>\n",
              "      <td>185.0</td>\n",
              "      <td>168.0</td>\n",
              "      <td>340.0</td>\n",
              "      <td>30999.15</td>\n",
              "      <td>NaN</td>\n",
              "      <td>NaN</td>\n",
              "      <td>MG</td>\n",
              "    </tr>\n",
              "  </tbody>\n",
              "</table>\n",
              "</div>"
            ],
            "text/plain": [
              "                            model  battery kWh  ...  price nl  vehicle name\n",
              "4   Model 3 Long Range Dual Motor         70.0  ...       NaN         Tesla\n",
              "13                       ID.4 1st         77.0  ...       NaN    Volkswagen\n",
              "48              e-tron 55 quattro         86.5  ...       NaN          Audi\n",
              "71                         MG5 EV         48.8  ...       NaN            MG\n",
              "89              MG5 EV Long Range         57.0  ...       NaN            MG\n",
              "\n",
              "[5 rows x 10 columns]"
            ]
          },
          "metadata": {},
          "execution_count": 47
        }
      ]
    },
    {
      "cell_type": "code",
      "metadata": {
        "colab": {
          "base_uri": "https://localhost:8080/",
          "height": 203
        },
        "id": "E-pTGzmhYzBF",
        "outputId": "7062f77c-19eb-41d0-892d-421c11f89e3b"
      },
      "source": [
        "train = data.drop(['price uk', 'price nl'], axis=1)\n",
        "train = train.dropna(axis=0)\n",
        "train.head()"
      ],
      "execution_count": 48,
      "outputs": [
        {
          "output_type": "execute_result",
          "data": {
            "text/html": [
              "<div>\n",
              "<style scoped>\n",
              "    .dataframe tbody tr th:only-of-type {\n",
              "        vertical-align: middle;\n",
              "    }\n",
              "\n",
              "    .dataframe tbody tr th {\n",
              "        vertical-align: top;\n",
              "    }\n",
              "\n",
              "    .dataframe thead th {\n",
              "        text-align: right;\n",
              "    }\n",
              "</style>\n",
              "<table border=\"1\" class=\"dataframe\">\n",
              "  <thead>\n",
              "    <tr style=\"text-align: right;\">\n",
              "      <th></th>\n",
              "      <th>model</th>\n",
              "      <th>battery kWh</th>\n",
              "      <th>acceleration sec</th>\n",
              "      <th>top speeds km/h</th>\n",
              "      <th>efficiency Wh/km</th>\n",
              "      <th>fast charge km/h</th>\n",
              "      <th>price ger</th>\n",
              "      <th>vehicle name</th>\n",
              "    </tr>\n",
              "  </thead>\n",
              "  <tbody>\n",
              "    <tr>\n",
              "      <th>0</th>\n",
              "      <td>EQS 580 4MATIC</td>\n",
              "      <td>107.8</td>\n",
              "      <td>4.3</td>\n",
              "      <td>210.0</td>\n",
              "      <td>177.0</td>\n",
              "      <td>800.0</td>\n",
              "      <td>135529.0</td>\n",
              "      <td>Mercedes</td>\n",
              "    </tr>\n",
              "    <tr>\n",
              "      <th>1</th>\n",
              "      <td>Model 3 Standard Range Plus LFP</td>\n",
              "      <td>52.5</td>\n",
              "      <td>5.6</td>\n",
              "      <td>225.0</td>\n",
              "      <td>150.0</td>\n",
              "      <td>560.0</td>\n",
              "      <td>43560.0</td>\n",
              "      <td>Tesla</td>\n",
              "    </tr>\n",
              "    <tr>\n",
              "      <th>2</th>\n",
              "      <td>Model Y Long Range Dual Motor</td>\n",
              "      <td>70.0</td>\n",
              "      <td>5.0</td>\n",
              "      <td>217.0</td>\n",
              "      <td>171.0</td>\n",
              "      <td>520.0</td>\n",
              "      <td>59965.0</td>\n",
              "      <td>Tesla</td>\n",
              "    </tr>\n",
              "    <tr>\n",
              "      <th>3</th>\n",
              "      <td>EV6 GT</td>\n",
              "      <td>77.4</td>\n",
              "      <td>3.5</td>\n",
              "      <td>260.0</td>\n",
              "      <td>196.0</td>\n",
              "      <td>920.0</td>\n",
              "      <td>65990.0</td>\n",
              "      <td>Kia</td>\n",
              "    </tr>\n",
              "    <tr>\n",
              "      <th>5</th>\n",
              "      <td>Model 3 Standard Range Plus</td>\n",
              "      <td>51.0</td>\n",
              "      <td>5.6</td>\n",
              "      <td>225.0</td>\n",
              "      <td>146.0</td>\n",
              "      <td>700.0</td>\n",
              "      <td>43560.0</td>\n",
              "      <td>Tesla</td>\n",
              "    </tr>\n",
              "  </tbody>\n",
              "</table>\n",
              "</div>"
            ],
            "text/plain": [
              "                             model  battery kWh  ...  price ger  vehicle name\n",
              "0                   EQS 580 4MATIC        107.8  ...   135529.0      Mercedes\n",
              "1  Model 3 Standard Range Plus LFP         52.5  ...    43560.0         Tesla\n",
              "2    Model Y Long Range Dual Motor         70.0  ...    59965.0         Tesla\n",
              "3                           EV6 GT         77.4  ...    65990.0           Kia\n",
              "5      Model 3 Standard Range Plus         51.0  ...    43560.0         Tesla\n",
              "\n",
              "[5 rows x 8 columns]"
            ]
          },
          "metadata": {},
          "execution_count": 48
        }
      ]
    },
    {
      "cell_type": "code",
      "metadata": {
        "colab": {
          "base_uri": "https://localhost:8080/",
          "height": 203
        },
        "id": "nZR2-jxHG_-h",
        "outputId": "652c3f0e-985f-4eb3-e316-3396775365fd"
      },
      "source": [
        "from sklearn.preprocessing import LabelEncoder\n",
        "scaler = MinMaxScaler()\n",
        "encoder = LabelEncoder()\n",
        "#train = train.drop('model', axis=1)\n",
        "train['vehicle name'] = encoder.fit_transform(train['vehicle name'])\n",
        "train.head()"
      ],
      "execution_count": 49,
      "outputs": [
        {
          "output_type": "execute_result",
          "data": {
            "text/html": [
              "<div>\n",
              "<style scoped>\n",
              "    .dataframe tbody tr th:only-of-type {\n",
              "        vertical-align: middle;\n",
              "    }\n",
              "\n",
              "    .dataframe tbody tr th {\n",
              "        vertical-align: top;\n",
              "    }\n",
              "\n",
              "    .dataframe thead th {\n",
              "        text-align: right;\n",
              "    }\n",
              "</style>\n",
              "<table border=\"1\" class=\"dataframe\">\n",
              "  <thead>\n",
              "    <tr style=\"text-align: right;\">\n",
              "      <th></th>\n",
              "      <th>model</th>\n",
              "      <th>battery kWh</th>\n",
              "      <th>acceleration sec</th>\n",
              "      <th>top speeds km/h</th>\n",
              "      <th>efficiency Wh/km</th>\n",
              "      <th>fast charge km/h</th>\n",
              "      <th>price ger</th>\n",
              "      <th>vehicle name</th>\n",
              "    </tr>\n",
              "  </thead>\n",
              "  <tbody>\n",
              "    <tr>\n",
              "      <th>0</th>\n",
              "      <td>EQS 580 4MATIC</td>\n",
              "      <td>107.8</td>\n",
              "      <td>4.3</td>\n",
              "      <td>210.0</td>\n",
              "      <td>177.0</td>\n",
              "      <td>800.0</td>\n",
              "      <td>135529.0</td>\n",
              "      <td>20</td>\n",
              "    </tr>\n",
              "    <tr>\n",
              "      <th>1</th>\n",
              "      <td>Model 3 Standard Range Plus LFP</td>\n",
              "      <td>52.5</td>\n",
              "      <td>5.6</td>\n",
              "      <td>225.0</td>\n",
              "      <td>150.0</td>\n",
              "      <td>560.0</td>\n",
              "      <td>43560.0</td>\n",
              "      <td>33</td>\n",
              "    </tr>\n",
              "    <tr>\n",
              "      <th>2</th>\n",
              "      <td>Model Y Long Range Dual Motor</td>\n",
              "      <td>70.0</td>\n",
              "      <td>5.0</td>\n",
              "      <td>217.0</td>\n",
              "      <td>171.0</td>\n",
              "      <td>520.0</td>\n",
              "      <td>59965.0</td>\n",
              "      <td>33</td>\n",
              "    </tr>\n",
              "    <tr>\n",
              "      <th>3</th>\n",
              "      <td>EV6 GT</td>\n",
              "      <td>77.4</td>\n",
              "      <td>3.5</td>\n",
              "      <td>260.0</td>\n",
              "      <td>196.0</td>\n",
              "      <td>920.0</td>\n",
              "      <td>65990.0</td>\n",
              "      <td>14</td>\n",
              "    </tr>\n",
              "    <tr>\n",
              "      <th>5</th>\n",
              "      <td>Model 3 Standard Range Plus</td>\n",
              "      <td>51.0</td>\n",
              "      <td>5.6</td>\n",
              "      <td>225.0</td>\n",
              "      <td>146.0</td>\n",
              "      <td>700.0</td>\n",
              "      <td>43560.0</td>\n",
              "      <td>33</td>\n",
              "    </tr>\n",
              "  </tbody>\n",
              "</table>\n",
              "</div>"
            ],
            "text/plain": [
              "                             model  battery kWh  ...  price ger  vehicle name\n",
              "0                   EQS 580 4MATIC        107.8  ...   135529.0            20\n",
              "1  Model 3 Standard Range Plus LFP         52.5  ...    43560.0            33\n",
              "2    Model Y Long Range Dual Motor         70.0  ...    59965.0            33\n",
              "3                           EV6 GT         77.4  ...    65990.0            14\n",
              "5      Model 3 Standard Range Plus         51.0  ...    43560.0            33\n",
              "\n",
              "[5 rows x 8 columns]"
            ]
          },
          "metadata": {},
          "execution_count": 49
        }
      ]
    },
    {
      "cell_type": "code",
      "metadata": {
        "colab": {
          "base_uri": "https://localhost:8080/"
        },
        "id": "WbPHHt2WH7l8",
        "outputId": "13140b6c-9be5-4da2-b5c4-a131d61499bc"
      },
      "source": [
        "train.columns"
      ],
      "execution_count": 50,
      "outputs": [
        {
          "output_type": "execute_result",
          "data": {
            "text/plain": [
              "Index(['model', 'battery kWh', 'acceleration sec', 'top speeds km/h',\n",
              "       'efficiency Wh/km', 'fast charge km/h', 'price ger', 'vehicle name'],\n",
              "      dtype='object')"
            ]
          },
          "metadata": {},
          "execution_count": 50
        }
      ]
    },
    {
      "cell_type": "code",
      "metadata": {
        "id": "lPn22hfbQOtm"
      },
      "source": [
        "from sklearn.model_selection import train_test_split"
      ],
      "execution_count": 51,
      "outputs": []
    },
    {
      "cell_type": "code",
      "metadata": {
        "id": "dAj7AksZItaz"
      },
      "source": [
        "X = train.drop(['price ger', 'model'], axis=1)\n",
        "y = train['price ger']\n",
        "Random_state = 101\n",
        "X_train, X_test, y_train, y_test = train_test_split(X, y, test_size=0.2, random_state=Random_state)"
      ],
      "execution_count": 52,
      "outputs": []
    },
    {
      "cell_type": "code",
      "metadata": {
        "id": "ulv0_bcGQEBq"
      },
      "source": [
        "from sklearn.metrics import mean_absolute_error, mean_squared_error, r2_score\n",
        "from sklearn.linear_model import LinearRegression, Ridge, Lasso\n",
        "from sklearn.svm import SVR\n",
        "from sklearn.tree import DecisionTreeRegressor\n",
        "from sklearn.ensemble import RandomForestRegressor, GradientBoostingRegressor\n",
        "from sklearn.neural_network import MLPRegressor"
      ],
      "execution_count": 53,
      "outputs": []
    },
    {
      "cell_type": "code",
      "metadata": {
        "id": "nxVk6tODSQB6",
        "colab": {
          "base_uri": "https://localhost:8080/"
        },
        "outputId": "0976c47c-0578-4d26-887a-e155e42ed055"
      },
      "source": [
        "#models = [LinearRegression(), Ridge(), Lasso(), SVR(), DecisionTreeRegressor(), RandomForestRegressor(), GradientBoostingRegressor(), MLPRegressor()]\n",
        "#names = ['Linear Regression', 'Ridge Regression', 'Lasso Regression', 'SVM', 'Decision Tree', 'Random Forest', 'Gradient Boosting', 'Multilayer Perceptron']\n",
        "# Define a function that trains a model and computes error metrics\n",
        "#for name, model in zip(names, models):\n",
        "model = DecisionTreeRegressor(random_state=Random_state)\n",
        "model.fit(X_train, y_train)\n",
        "prediction = model.predict(X_test)\n",
        "print('The mean squared error is ', mean_squared_error(y_test, prediction))\n",
        "print('\\n')\n",
        "print('The mean absolute error is ', mean_absolute_error(y_test, prediction))\n",
        "print('\\n')\n",
        "print('The R2_Score is ', r2_score(y_test, prediction))\n",
        "print('\\n')\n",
        "print('Decision Tree Algorithm')\n",
        "print('\\n')"
      ],
      "execution_count": 54,
      "outputs": [
        {
          "output_type": "stream",
          "name": "stdout",
          "text": [
            "The mean squared error is  368274891.9714286\n",
            "\n",
            "\n",
            "The mean absolute error is  10456.942857142858\n",
            "\n",
            "\n",
            "The R2_Score is  0.57173779722743\n",
            "\n",
            "\n",
            "Decision Tree Algorithm\n",
            "\n",
            "\n"
          ]
        }
      ]
    },
    {
      "cell_type": "code",
      "metadata": {
        "colab": {
          "base_uri": "https://localhost:8080/"
        },
        "id": "QGb96v6eUu3G",
        "outputId": "a715f33a-2954-4b4c-be59-27d23dbcd741"
      },
      "source": [
        "model = Ridge()\n",
        "model.fit(X_train, y_train)\n",
        "prediction = model.predict(X_test)\n",
        "print('The mean squared error is ', mean_squared_error(y_test, prediction))\n",
        "print('\\n')\n",
        "print('The mean absolute error is ', mean_absolute_error(y_test, prediction))\n",
        "print('\\n')\n",
        "print('The R2_Score is ', r2_score(y_test, prediction))\n",
        "print('\\n')\n",
        "print('Ridge Regression Algorithm')\n",
        "print('\\n')"
      ],
      "execution_count": 55,
      "outputs": [
        {
          "output_type": "stream",
          "name": "stdout",
          "text": [
            "The mean squared error is  351851933.6968439\n",
            "\n",
            "\n",
            "The mean absolute error is  10738.7382743174\n",
            "\n",
            "\n",
            "The R2_Score is  0.5908358471896884\n",
            "\n",
            "\n",
            "Ridge Regression Algorithm\n",
            "\n",
            "\n"
          ]
        }
      ]
    },
    {
      "cell_type": "code",
      "metadata": {
        "id": "tqNi0fjcUwse",
        "colab": {
          "base_uri": "https://localhost:8080/"
        },
        "outputId": "59c5775e-c021-47db-d7dd-e698a94c3a2e"
      },
      "source": [
        "model = Lasso()\n",
        "model.fit(X_train, y_train)\n",
        "prediction = model.predict(X_test)\n",
        "print('The mean squared error is ', mean_squared_error(y_test, prediction))\n",
        "print('\\n')\n",
        "print('The mean absolute error is ', mean_absolute_error(y_test, prediction))\n",
        "print('\\n')\n",
        "print('The R2_Score is ', r2_score(y_test, prediction))\n",
        "print('\\n')\n",
        "print('Lasso Regression Algorithm')\n",
        "print('\\n')"
      ],
      "execution_count": 56,
      "outputs": [
        {
          "output_type": "stream",
          "name": "stdout",
          "text": [
            "The mean squared error is  351873508.6536771\n",
            "\n",
            "\n",
            "The mean absolute error is  10738.282590849782\n",
            "\n",
            "\n",
            "The R2_Score is  0.590810757945921\n",
            "\n",
            "\n",
            "Lasso Regression Algorithm\n",
            "\n",
            "\n"
          ]
        }
      ]
    },
    {
      "cell_type": "code",
      "metadata": {
        "colab": {
          "base_uri": "https://localhost:8080/"
        },
        "id": "FbCuRfzhDICJ",
        "outputId": "0ec46819-3cdb-454e-a8eb-699ef5e35107"
      },
      "source": [
        "model = RandomForestRegressor(random_state=Random_state)\n",
        "model.fit(X_train, y_train)\n",
        "prediction = model.predict(X_test)\n",
        "print('The mean squared error is ', mean_squared_error(y_test, prediction))\n",
        "print('\\n')\n",
        "print('The mean absolute error is ', mean_absolute_error(y_test, prediction))\n",
        "print('\\n')\n",
        "print('The R2_Score is ', r2_score(y_test, prediction))\n",
        "print('\\n')\n",
        "print('Random Forest Algorithm')\n",
        "print('\\n')"
      ],
      "execution_count": 57,
      "outputs": [
        {
          "output_type": "stream",
          "name": "stdout",
          "text": [
            "The mean squared error is  275365650.4484028\n",
            "\n",
            "\n",
            "The mean absolute error is  8283.839132653064\n",
            "\n",
            "\n",
            "The R2_Score is  0.6797807762629562\n",
            "\n",
            "\n",
            "Random Forest Algorithm\n",
            "\n",
            "\n"
          ]
        }
      ]
    },
    {
      "cell_type": "code",
      "metadata": {
        "colab": {
          "base_uri": "https://localhost:8080/"
        },
        "id": "Re9X8EHhDINx",
        "outputId": "9a2da581-5cd4-429a-c502-63756b7d3be6"
      },
      "source": [
        "model = SVR()\n",
        "model.fit(X_train, y_train)\n",
        "prediction = model.predict(X_test)\n",
        "print('The mean squared error is ', mean_squared_error(y_test, prediction))\n",
        "print('\\n')\n",
        "print('The mean absolute error is ', mean_absolute_error(y_test, prediction))\n",
        "print('\\n')\n",
        "print('The R2_Score is ', r2_score(y_test, prediction))\n",
        "print('\\n')\n",
        "print('Support Vector Machines Algorithm')\n",
        "print('\\n')"
      ],
      "execution_count": 58,
      "outputs": [
        {
          "output_type": "stream",
          "name": "stdout",
          "text": [
            "The mean squared error is  865088750.5113481\n",
            "\n",
            "\n",
            "The mean absolute error is  18467.064336861917\n",
            "\n",
            "\n",
            "The R2_Score is  -0.006000740111555158\n",
            "\n",
            "\n",
            "Support Vector Machines Algorithm\n",
            "\n",
            "\n"
          ]
        }
      ]
    },
    {
      "cell_type": "code",
      "metadata": {
        "colab": {
          "base_uri": "https://localhost:8080/"
        },
        "id": "hBJz_8aVDIVr",
        "outputId": "6384ec17-0cba-43cb-aef6-e410fe3ec2b3"
      },
      "source": [
        "model = GradientBoostingRegressor(random_state=Random_state)\n",
        "model.fit(X_train, y_train)\n",
        "prediction = model.predict(X_test)\n",
        "print('The mean squared error is ', mean_squared_error(y_test, prediction))\n",
        "print('\\n')\n",
        "print('The mean absolute error is ', mean_absolute_error(y_test, prediction))\n",
        "print('\\n')\n",
        "print('The R2_Score is ', r2_score(y_test, prediction))\n",
        "print('\\n')\n",
        "print('Gradient Boost Algorithm')\n",
        "print('\\n')"
      ],
      "execution_count": 59,
      "outputs": [
        {
          "output_type": "stream",
          "name": "stdout",
          "text": [
            "The mean squared error is  264274776.8332961\n",
            "\n",
            "\n",
            "The mean absolute error is  7154.622374393255\n",
            "\n",
            "\n",
            "The R2_Score is  0.6926782125764974\n",
            "\n",
            "\n",
            "Gradient Boost Algorithm\n",
            "\n",
            "\n"
          ]
        }
      ]
    },
    {
      "cell_type": "code",
      "metadata": {
        "colab": {
          "base_uri": "https://localhost:8080/"
        },
        "id": "7TO_cAJcDIdY",
        "outputId": "cd67318c-da87-4c0a-a3ec-d0a36a071742"
      },
      "source": [
        "model = MLPRegressor()\n",
        "model.fit(X_train, y_train)\n",
        "prediction = model.predict(X_test)\n",
        "print('The mean squared error is ', mean_squared_error(y_test, prediction))\n",
        "print('\\n')\n",
        "print('The mean absolute error is ', mean_absolute_error(y_test, prediction))\n",
        "print('\\n')\n",
        "print('The R2_Score is ', r2_score(y_test, prediction))\n",
        "print('\\n')\n",
        "print('MLP Algorithm')\n",
        "print('\\n')"
      ],
      "execution_count": 60,
      "outputs": [
        {
          "output_type": "stream",
          "name": "stdout",
          "text": [
            "The mean squared error is  3157509030.329736\n",
            "\n",
            "\n",
            "The mean absolute error is  48450.76820076246\n",
            "\n",
            "\n",
            "The R2_Score is  -2.6718272195113526\n",
            "\n",
            "\n",
            "MLP Algorithm\n",
            "\n",
            "\n"
          ]
        },
        {
          "output_type": "stream",
          "name": "stderr",
          "text": [
            "/usr/local/lib/python3.7/dist-packages/sklearn/neural_network/_multilayer_perceptron.py:571: ConvergenceWarning: Stochastic Optimizer: Maximum iterations (200) reached and the optimization hasn't converged yet.\n",
            "  % self.max_iter, ConvergenceWarning)\n"
          ]
        }
      ]
    },
    {
      "cell_type": "code",
      "metadata": {
        "colab": {
          "base_uri": "https://localhost:8080/"
        },
        "id": "DPDOHJY_DIl0",
        "outputId": "4ccf2339-0504-480d-8a15-a20ac1d834b7"
      },
      "source": [
        "model = LinearRegression()\n",
        "model.fit(X_train, y_train)\n",
        "prediction = model.predict(X_test)\n",
        "print('The mean squared error is ', mean_squared_error(y_test, prediction))\n",
        "print('\\n')\n",
        "print('The mean absolute error is ', mean_absolute_error(y_test, prediction))\n",
        "print('\\n')\n",
        "print('The R2_Score is ', r2_score(y_test, prediction))\n",
        "print('\\n')\n",
        "print('Linear Regression Algorithm')\n",
        "print('\\n')"
      ],
      "execution_count": 61,
      "outputs": [
        {
          "output_type": "stream",
          "name": "stdout",
          "text": [
            "The mean squared error is  351875720.087826\n",
            "\n",
            "\n",
            "The mean absolute error is  10738.285794656495\n",
            "\n",
            "\n",
            "The R2_Score is  0.5908081862971863\n",
            "\n",
            "\n",
            "Linear Regression Algorithm\n",
            "\n",
            "\n"
          ]
        }
      ]
    },
    {
      "cell_type": "code",
      "metadata": {
        "id": "4HNvIwHODIyu"
      },
      "source": [
        ""
      ],
      "execution_count": 61,
      "outputs": []
    },
    {
      "cell_type": "markdown",
      "metadata": {
        "id": "LRZGHyLQ0Taa"
      },
      "source": [
        "### Now, we move to Hyperparameter tuning using Gridsearch"
      ]
    },
    {
      "cell_type": "code",
      "metadata": {
        "id": "FioLnqv_DI_p"
      },
      "source": [
        "from sklearn.model_selection import GridSearchCV"
      ],
      "execution_count": 62,
      "outputs": []
    },
    {
      "cell_type": "code",
      "metadata": {
        "id": "sRkpubcUEsNA"
      },
      "source": [
        "params = {'n_estimators':[300, 500, 750,100], }"
      ],
      "execution_count": 63,
      "outputs": []
    },
    {
      "cell_type": "code",
      "metadata": {
        "id": "pegIixM8AqRl"
      },
      "source": [
        "clf = GridSearchCV(estimator=RandomForestRegressor(), param_grid=params, cv=5, scoring='r2')"
      ],
      "execution_count": 64,
      "outputs": []
    },
    {
      "cell_type": "code",
      "metadata": {
        "colab": {
          "base_uri": "https://localhost:8080/"
        },
        "id": "Pu_BJBUSAqV7",
        "outputId": "105a0391-7c47-44fc-d1fe-6b9440ed8657"
      },
      "source": [
        "clf.fit(X_train, y_train)"
      ],
      "execution_count": 65,
      "outputs": [
        {
          "output_type": "execute_result",
          "data": {
            "text/plain": [
              "GridSearchCV(cv=5, error_score=nan,\n",
              "             estimator=RandomForestRegressor(bootstrap=True, ccp_alpha=0.0,\n",
              "                                             criterion='mse', max_depth=None,\n",
              "                                             max_features='auto',\n",
              "                                             max_leaf_nodes=None,\n",
              "                                             max_samples=None,\n",
              "                                             min_impurity_decrease=0.0,\n",
              "                                             min_impurity_split=None,\n",
              "                                             min_samples_leaf=1,\n",
              "                                             min_samples_split=2,\n",
              "                                             min_weight_fraction_leaf=0.0,\n",
              "                                             n_estimators=100, n_jobs=None,\n",
              "                                             oob_score=False, random_state=None,\n",
              "                                             verbose=0, warm_start=False),\n",
              "             iid='deprecated', n_jobs=None,\n",
              "             param_grid={'n_estimators': [300, 500, 750, 100]},\n",
              "             pre_dispatch='2*n_jobs', refit=True, return_train_score=False,\n",
              "             scoring='r2', verbose=0)"
            ]
          },
          "metadata": {},
          "execution_count": 65
        }
      ]
    },
    {
      "cell_type": "code",
      "metadata": {
        "id": "uesoK50_CMOs"
      },
      "source": [
        "#import sklearn\n",
        "#sorted(sklearn.metrics.SCORERS.keys())"
      ],
      "execution_count": 66,
      "outputs": []
    },
    {
      "cell_type": "code",
      "metadata": {
        "colab": {
          "base_uri": "https://localhost:8080/"
        },
        "id": "_FuesOPaDRkw",
        "outputId": "1fc416cb-d794-4c38-b182-24ac3c8453eb"
      },
      "source": [
        "clf.best_params_"
      ],
      "execution_count": 67,
      "outputs": [
        {
          "output_type": "execute_result",
          "data": {
            "text/plain": [
              "{'n_estimators': 750}"
            ]
          },
          "metadata": {},
          "execution_count": 67
        }
      ]
    },
    {
      "cell_type": "code",
      "metadata": {
        "colab": {
          "base_uri": "https://localhost:8080/"
        },
        "id": "Cz8rEOTPF3XA",
        "outputId": "b1e0548f-ad54-4bd2-cb17-a04d4a94e623"
      },
      "source": [
        "print(clf.best_params_)"
      ],
      "execution_count": 68,
      "outputs": [
        {
          "output_type": "stream",
          "name": "stdout",
          "text": [
            "{'n_estimators': 750}\n"
          ]
        }
      ]
    },
    {
      "cell_type": "code",
      "metadata": {
        "colab": {
          "base_uri": "https://localhost:8080/"
        },
        "id": "jn93iEGlGC4J",
        "outputId": "7545f921-2671-4ee4-aab8-d229ce6f8b2f"
      },
      "source": [
        "print(clf.best_score_)"
      ],
      "execution_count": 69,
      "outputs": [
        {
          "output_type": "stream",
          "name": "stdout",
          "text": [
            "0.7515470435516111\n"
          ]
        }
      ]
    },
    {
      "cell_type": "code",
      "metadata": {
        "colab": {
          "base_uri": "https://localhost:8080/"
        },
        "id": "AmZ2gU5zRZfN",
        "outputId": "9c518afb-807e-4038-bfe0-e4462e906ac6"
      },
      "source": [
        "from xgboost import XGBRegressor\n",
        "XGBRegressor()"
      ],
      "execution_count": 70,
      "outputs": [
        {
          "output_type": "execute_result",
          "data": {
            "text/plain": [
              "XGBRegressor(base_score=0.5, booster='gbtree', colsample_bylevel=1,\n",
              "             colsample_bynode=1, colsample_bytree=1, gamma=0,\n",
              "             importance_type='gain', learning_rate=0.1, max_delta_step=0,\n",
              "             max_depth=3, min_child_weight=1, missing=None, n_estimators=100,\n",
              "             n_jobs=1, nthread=None, objective='reg:linear', random_state=0,\n",
              "             reg_alpha=0, reg_lambda=1, scale_pos_weight=1, seed=None,\n",
              "             silent=None, subsample=1, verbosity=1)"
            ]
          },
          "metadata": {},
          "execution_count": 70
        }
      ]
    },
    {
      "cell_type": "code",
      "metadata": {
        "id": "VlWOYpY1Glwo"
      },
      "source": [
        "param1 = {'n_estimators':[300, 500, 750, 100], 'max_depth':[2,3,5,7], 'max_leaf_nodes':[2, 5], 'min_samples_leaf':[1, 2, 3], \n",
        "          'min_samples_split':[2,3,4]}\n",
        "\n",
        "# For Xgboost, we have:\n",
        "# gbtree - for tree models, and gblinear - for linear model\n",
        "# Parameters for controlling speed: n_estimators, colsample_bytree, and subsample\n",
        "# Parameters for reducing overfitting: learning_rate, max_depth, and min_child_weight\n",
        "param2 = {'colsample_bytree':[0.2, 0.5, 0.7], 'learning_rate':[0.001,0.01,0.1], 'n_estimators':[100,300,500,750,1000],\n",
        "          'min_child_weight':[1,3,5], 'max_depth':[3,5,7,10]}"
      ],
      "execution_count": 71,
      "outputs": []
    },
    {
      "cell_type": "code",
      "metadata": {
        "id": "KIaPs1UzVUZ4"
      },
      "source": [
        ""
      ],
      "execution_count": 71,
      "outputs": []
    },
    {
      "cell_type": "code",
      "metadata": {
        "id": "ekRcw1vcSoiR"
      },
      "source": [
        "# Now we perform GridSearchCV on Random Forest Algorithm\n",
        "clf_rfr = GridSearchCV(estimator=RandomForestRegressor(random_state=Random_state), param_grid=param1, cv=5, scoring='r2', n_jobs=-1)"
      ],
      "execution_count": 72,
      "outputs": []
    },
    {
      "cell_type": "code",
      "metadata": {
        "colab": {
          "base_uri": "https://localhost:8080/"
        },
        "id": "WJMpgwROinCd",
        "outputId": "e30cda71-b635-45c1-fd2f-a2f24a40c8b5"
      },
      "source": [
        "clf_rfr.fit(X_train, y_train)\n",
        "print(clf_rfr.best_params_)\n",
        "print('\\n')\n",
        "print(clf_rfr.best_score_)"
      ],
      "execution_count": 73,
      "outputs": [
        {
          "output_type": "stream",
          "name": "stdout",
          "text": [
            "{'max_depth': 3, 'max_leaf_nodes': 5, 'min_samples_leaf': 2, 'min_samples_split': 2, 'n_estimators': 300}\n",
            "\n",
            "\n",
            "0.6624698091230944\n"
          ]
        }
      ]
    },
    {
      "cell_type": "code",
      "metadata": {
        "id": "vEpL3uDPinMU"
      },
      "source": [
        ""
      ],
      "execution_count": 73,
      "outputs": []
    },
    {
      "cell_type": "code",
      "metadata": {
        "id": "U_eUn2pHinmB"
      },
      "source": [
        ""
      ],
      "execution_count": 73,
      "outputs": []
    },
    {
      "cell_type": "code",
      "metadata": {
        "id": "YfXR4JRNTmUG"
      },
      "source": [
        "# Now we Perform GridSearchCV on Xgboost Algorithm\n",
        "clf_xgb = GridSearchCV(estimator=XGBRegressor(random_state=Random_state), param_grid=param2, cv=5, scoring='r2', n_jobs=-1)"
      ],
      "execution_count": 74,
      "outputs": []
    },
    {
      "cell_type": "code",
      "metadata": {
        "id": "2v9QWV3vil58",
        "colab": {
          "base_uri": "https://localhost:8080/"
        },
        "outputId": "afd89da8-0991-4596-c9b7-b2c1efae3c08"
      },
      "source": [
        "clf_xgb.fit(X_train, y_train)\n",
        "print(clf_xgb.best_params_)\n",
        "print('\\n')\n",
        "print(clf_xgb.best_score_)"
      ],
      "execution_count": 75,
      "outputs": [
        {
          "output_type": "stream",
          "name": "stdout",
          "text": [
            "[08:39:24] WARNING: /workspace/src/objective/regression_obj.cu:152: reg:linear is now deprecated in favor of reg:squarederror.\n",
            "{'colsample_bytree': 0.5, 'learning_rate': 0.01, 'max_depth': 7, 'min_child_weight': 1, 'n_estimators': 750}\n",
            "\n",
            "\n",
            "0.7664290013757664\n"
          ]
        }
      ]
    }
  ]
}